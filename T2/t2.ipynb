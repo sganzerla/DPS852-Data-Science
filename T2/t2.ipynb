{
 "cells": [
  {
   "cell_type": "markdown",
   "id": "fce125b9",
   "metadata": {},
   "source": [
    "## Atividade 1\n",
    "Crie um dataset que envolva apenas o indicador GDP e persista em um arquivo, sem as colunas \"Indicator Name\" e \"Indicator Code\""
   ]
  },
  {
   "cell_type": "code",
   "execution_count": 6,
   "id": "2bbcd764",
   "metadata": {},
   "outputs": [
    {
     "name": "stdout",
     "output_type": "stream",
     "text": [
      "Antes de remover haviam essas colunas.\n"
     ]
    },
    {
     "data": {
      "text/html": [
       "<div>\n",
       "<style scoped>\n",
       "    .dataframe tbody tr th:only-of-type {\n",
       "        vertical-align: middle;\n",
       "    }\n",
       "\n",
       "    .dataframe tbody tr th {\n",
       "        vertical-align: top;\n",
       "    }\n",
       "\n",
       "    .dataframe thead th {\n",
       "        text-align: right;\n",
       "    }\n",
       "</style>\n",
       "<table border=\"1\" class=\"dataframe\">\n",
       "  <thead>\n",
       "    <tr style=\"text-align: right;\">\n",
       "      <th></th>\n",
       "      <th>index</th>\n",
       "      <th>Country Name</th>\n",
       "      <th>Country Code</th>\n",
       "      <th>Indicator Name</th>\n",
       "      <th>Indicator Code</th>\n",
       "      <th>1960</th>\n",
       "      <th>1961</th>\n",
       "      <th>1962</th>\n",
       "      <th>1963</th>\n",
       "      <th>1964</th>\n",
       "      <th>...</th>\n",
       "      <th>2004</th>\n",
       "      <th>2005</th>\n",
       "      <th>2006</th>\n",
       "      <th>2007</th>\n",
       "      <th>2008</th>\n",
       "      <th>2009</th>\n",
       "      <th>2010</th>\n",
       "      <th>2011</th>\n",
       "      <th>2012</th>\n",
       "      <th>2013</th>\n",
       "    </tr>\n",
       "  </thead>\n",
       "  <tbody>\n",
       "  </tbody>\n",
       "</table>\n",
       "<p>0 rows × 59 columns</p>\n",
       "</div>"
      ],
      "text/plain": [
       "Empty DataFrame\n",
       "Columns: [index, Country Name, Country Code, Indicator Name, Indicator Code, 1960, 1961, 1962, 1963, 1964, 1965, 1966, 1967, 1968, 1969, 1970, 1971, 1972, 1973, 1974, 1975, 1976, 1977, 1978, 1979, 1980, 1981, 1982, 1983, 1984, 1985, 1986, 1987, 1988, 1989, 1990, 1991, 1992, 1993, 1994, 1995, 1996, 1997, 1998, 1999, 2000, 2001, 2002, 2003, 2004, 2005, 2006, 2007, 2008, 2009, 2010, 2011, 2012, 2013]\n",
       "Index: []\n",
       "\n",
       "[0 rows x 59 columns]"
      ]
     },
     "metadata": {},
     "output_type": "display_data"
    },
    {
     "name": "stdout",
     "output_type": "stream",
     "text": [
      "Depois de removido há as seguintes colunas.\n"
     ]
    },
    {
     "data": {
      "text/html": [
       "<div>\n",
       "<style scoped>\n",
       "    .dataframe tbody tr th:only-of-type {\n",
       "        vertical-align: middle;\n",
       "    }\n",
       "\n",
       "    .dataframe tbody tr th {\n",
       "        vertical-align: top;\n",
       "    }\n",
       "\n",
       "    .dataframe thead th {\n",
       "        text-align: right;\n",
       "    }\n",
       "</style>\n",
       "<table border=\"1\" class=\"dataframe\">\n",
       "  <thead>\n",
       "    <tr style=\"text-align: right;\">\n",
       "      <th></th>\n",
       "      <th>index</th>\n",
       "      <th>Country Name</th>\n",
       "      <th>Country Code</th>\n",
       "      <th>1960</th>\n",
       "      <th>1961</th>\n",
       "      <th>1962</th>\n",
       "      <th>1963</th>\n",
       "      <th>1964</th>\n",
       "      <th>1965</th>\n",
       "      <th>1966</th>\n",
       "      <th>...</th>\n",
       "      <th>2004</th>\n",
       "      <th>2005</th>\n",
       "      <th>2006</th>\n",
       "      <th>2007</th>\n",
       "      <th>2008</th>\n",
       "      <th>2009</th>\n",
       "      <th>2010</th>\n",
       "      <th>2011</th>\n",
       "      <th>2012</th>\n",
       "      <th>2013</th>\n",
       "    </tr>\n",
       "  </thead>\n",
       "  <tbody>\n",
       "  </tbody>\n",
       "</table>\n",
       "<p>0 rows × 57 columns</p>\n",
       "</div>"
      ],
      "text/plain": [
       "Empty DataFrame\n",
       "Columns: [index, Country Name, Country Code, 1960, 1961, 1962, 1963, 1964, 1965, 1966, 1967, 1968, 1969, 1970, 1971, 1972, 1973, 1974, 1975, 1976, 1977, 1978, 1979, 1980, 1981, 1982, 1983, 1984, 1985, 1986, 1987, 1988, 1989, 1990, 1991, 1992, 1993, 1994, 1995, 1996, 1997, 1998, 1999, 2000, 2001, 2002, 2003, 2004, 2005, 2006, 2007, 2008, 2009, 2010, 2011, 2012, 2013]\n",
       "Index: []\n",
       "\n",
       "[0 rows x 57 columns]"
      ]
     },
     "metadata": {},
     "output_type": "display_data"
    }
   ],
   "source": [
    "import pandas as pd\n",
    "\n",
    "caminho = './'\n",
    "arquivo = 'dataset_bancomundial.csv'\n",
    "\n",
    "dataset_dados = pd.read_csv(caminho + arquivo, sep = ';', decimal = ',')\n",
    "\n",
    "# filtrar ocorrencias de um único termo em uma coluna\n",
    "dataset_gpd = dataset_dados[dataset_dados['Indicator Name'].str.contains('GDP \\(Current USD\\)')]\n",
    "\n",
    "print(\"Antes de remover haviam essas colunas.\")\n",
    "display(dataset_gpd.head(0))\n",
    "\n",
    "dataset_gpd = dataset_gpd.drop(['Indicator Name', 'Indicator Code'], axis = 1)\n",
    "print(\"Depois de removido há as seguintes colunas.\")\n",
    "display(dataset_gpd.head(0))\n",
    "\n",
    "dataset_gpd.to_csv('dataset_gpd_ex1.csv', sep = ';', decimal = ',')\n"
   ]
  },
  {
   "cell_type": "markdown",
   "id": "fecdca33",
   "metadata": {},
   "source": [
    "## Atividade 2\n",
    "Selecione os países da América do Sul e crie um novo dataset, persistindo em arquivo"
   ]
  },
  {
   "cell_type": "code",
   "execution_count": 7,
   "id": "4e5fe372",
   "metadata": {},
   "outputs": [],
   "source": [
    "import pandas as pd\n",
    "\n",
    "caminho = './'\n",
    "arquivo = 'dataset_bancomundial_paises.csv'\n",
    "\n",
    "codigo_paises_latinos = ['ARG', 'BRA', 'BOL',  'CHL', 'COL', 'ECU', 'GUY', 'PER', 'PRY', 'SUR', 'URY', 'VEN']\n",
    "\n",
    "dataset_paises = pd.read_csv(caminho + arquivo, sep = ';', decimal = ',')\n",
    "\n",
    "# filtrar ocorrencias de varios termos em uma coluna\n",
    "dataset_paises_latinos = dataset_paises.loc[pd.Series(dataset_paises['Country Code'].isin(codigo_paises_latinos))]\n",
    "\n",
    "dataset_paises_latinos.to_csv('dataset_paises_latinos_ex2.csv', sep = ';', decimal = ',')"
   ]
  },
  {
   "cell_type": "markdown",
   "id": "169fa0d4",
   "metadata": {},
   "source": [
    "## Atividade 3\n",
    "Crie um gráfico de controle, considerando a média e uma amplitude de 2 vezes o desvio padrão da para a série com o GDP para todos os países da América do Sul;"
   ]
  },
  {
   "cell_type": "code",
   "execution_count": 93,
   "id": "22a4be16",
   "metadata": {},
   "outputs": [
    {
     "data": {
      "image/png": "[encoded data removed]",
      "text/plain": [
       "<Figure size 1152x648 with 1 Axes>"
      ]
     },
     "metadata": {
      "needs_background": "light"
     },
     "output_type": "display_data"
    }
   ],
   "source": [
    "import pandas as pd\n",
    "import matplotlib.ticker as ticker\n",
    "import matplotlib.pyplot as plt\n",
    "\n",
    "caminho = './'\n",
    "arquivo_dados = 'dataset_gpd_ex1.csv'\n",
    "arquivo_paises_latinos = 'dataset_paises_latinos_ex2.csv'\n",
    "\n",
    "def lendo_arquivo(arquivo: str):\n",
    "    return pd.read_csv(caminho + arquivo, sep = ';', decimal = ',')\n",
    "\n",
    "dataset_dados = lendo_arquivo(arquivo_dados)\n",
    "dataset_paises_latinos = lendo_arquivo(arquivo_paises_latinos)\n",
    "codigo_paises_latinos = dataset_paises_latinos['Country Code']\n",
    "\n",
    "dataset_registros = dataset_dados.loc[pd.Series(dataset_dados['Country Code'].isin(codigo_paises_latinos))]\n",
    "\n",
    "dataset_registros.reset_index(inplace = True, drop = True)\n",
    " \n",
    "# deletando primeira coluna sem nome \n",
    "dataset_registros = dataset_registros.iloc[: , 1:]\n",
    "    \n",
    "# apagando colunas\n",
    "dataset_registros = dataset_registros.drop(['index', 'Country Name', 'Country Code'], axis = 1) \n",
    " \n",
    "mean_GDP = dataset_registros.mean(numeric_only = True, skipna = True, axis = 0) \n",
    "std_GDP = dataset_registros.std(numeric_only = True, skipna = True, axis = 0) \n",
    "\n",
    "resultado = pd.DataFrame({'Média': mean_GDP, 'Desvio': std_GDP}).reset_index() \n",
    "\n",
    "x = resultado['index']  \n",
    "y = resultado['Média'] \n",
    "e = resultado['Desvio']\n",
    "\n",
    "plt.figure(figsize=(16, 9))\n",
    " \n",
    "plt.errorbar(x, y, e * 2, fmt = 'o', color = 'black', \n",
    "            ecolor = 'lightgreen', elinewidth = 5, capsize=10)\n",
    "plt.grid()\n",
    "plt.xticks(rotation = 60)\n",
    "plt.xlabel(\"Anos\")\n",
    "plt.ylabel(\"GPD\")\n",
    "plt.show()\n",
    " \n"
   ]
  },
  {
   "cell_type": "code",
   "execution_count": null,
   "id": "b4b47f0c",
   "metadata": {},
   "outputs": [],
   "source": []
  },
  {
   "cell_type": "code",
   "execution_count": null,
   "id": "01a0fae1",
   "metadata": {},
   "outputs": [],
   "source": []
  }
 ],
 "metadata": {
  "interpreter": {
   "hash": "d4ecc00314b053340c011f30feae2cb0599056a19fa729c140ca6ecfe444bda2"
  },
  "kernelspec": {
   "display_name": "Python 3 (ipykernel)",
   "language": "python",
   "name": "python3"
  },
  "language_info": {
   "codemirror_mode": {
    "name": "ipython",
    "version": 3
   },
   "file_extension": ".py",
   "mimetype": "text/x-python",
   "name": "python",
   "nbconvert_exporter": "python",
   "pygments_lexer": "ipython3",
   "version": "3.9.7"
  }
 },
 "nbformat": 4,
 "nbformat_minor": 5
}
