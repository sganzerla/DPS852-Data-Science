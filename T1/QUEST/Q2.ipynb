{
 "cells": [
  {
   "cell_type": "markdown",
   "metadata": {},
   "source": [
    "## Questionário 2 Tentativa"
   ]
  },
  {
   "cell_type": "code",
   "execution_count": 53,
   "metadata": {},
   "outputs": [
    {
     "name": "stdout",
     "output_type": "stream",
     "text": [
      "<class 'pandas.core.frame.DataFrame'>\n",
      "RangeIndex: 48911 entries, 0 to 48910\n",
      "Data columns (total 4 columns):\n",
      " #   Column      Non-Null Count  Dtype  \n",
      "---  ------      --------------  -----  \n",
      " 0   CD_ESTACAO  48911 non-null  object \n",
      " 1   DT_MEDICAO  48911 non-null  object \n",
      " 2   HR_MEDICAO  48911 non-null  int64  \n",
      " 3   CHUVA       43683 non-null  float64\n",
      "dtypes: float64(1), int64(1), object(2)\n",
      "memory usage: 1.5+ MB\n"
     ]
    },
    {
     "data": {
      "text/plain": [
       "None"
      ]
     },
     "metadata": {},
     "output_type": "display_data"
    },
    {
     "name": "stdout",
     "output_type": "stream",
     "text": [
      "Registros nulos de dados:\n",
      "Campo DT_MEDICAO 0\n",
      "Campo DT_MEDICAO 0\n",
      "Campo CHUVA 5228\n"
     ]
    }
   ],
   "source": [
    "import pandas as pd\n",
    "\n",
    "caminho = './'\n",
    "nome_arquivo = 'ds_chuva_sm_2011_2020_3.csv'\n",
    "df = pd.read_csv(caminho + nome_arquivo, sep = ';', decimal = ',')\n",
    "\n",
    "# verificando tipo de dados em cada coluna\n",
    "display(df.info())\n",
    "\n",
    "quant_datas_nulo = df['DT_MEDICAO'].isna().sum()\n",
    "quant_horas_nulo = df['HR_MEDICAO'].isna().sum()\n",
    "quant_chuva_nulo = df['CHUVA'].isna().sum()\n",
    "\n",
    "print(\"Registros nulos de dados:\")\n",
    "print(\"Campo DT_MEDICAO\", quant_datas_nulo)\n",
    "print(\"Campo DT_MEDICAO\", quant_horas_nulo)\n",
    "print(\"Campo CHUVA\", quant_chuva_nulo)"
   ]
  },
  {
   "cell_type": "markdown",
   "metadata": {},
   "source": [
    "# Questão 1\n",
    "\n",
    "## a) Calcule e apresente o dia (1-{28,29,30,31}) que teve a maior precipitacao no mês 1, do ano 2011."
   ]
  },
  {
   "cell_type": "code",
   "execution_count": 67,
   "metadata": {},
   "outputs": [
    {
     "data": {
      "text/plain": [
       "'Maior quantidade de chuva registrada no dia: 2011-01-02 00:00:00'"
      ]
     },
     "metadata": {},
     "output_type": "display_data"
    },
    {
     "data": {
      "text/plain": [
       "'Quantidade máxima registrada : 39.2'"
      ]
     },
     "metadata": {},
     "output_type": "display_data"
    }
   ],
   "source": [
    "# convertendo para datetime\n",
    "df['DT_MEDICAO'] = pd.to_datetime(df['DT_MEDICAO'])\n",
    "# display(df.info())\n",
    "\n",
    "filtro = (df['DT_MEDICAO'] >=\n",
    "          '2011-01-01') & (df['DT_MEDICAO'] <= '2011-01-31')\n",
    "\n",
    "# filtrado apenas dados de janeiro de 2011\n",
    "df_2011_01 = df[filtro]\n",
    "\n",
    "# apagando dados nulos\n",
    "df_2011_01 = df_2011_01.dropna()\n",
    "\n",
    "# apagando colunas desnecessárias\n",
    "df_duas_colunas = df_2011_01.drop(['CD_ESTACAO', 'HR_MEDICAO'], axis=1)\n",
    "\n",
    "# agrupando e somando volume diario\n",
    "df_quant_diaria = df_duas_colunas.groupby(\n",
    "    pd.Grouper(key='DT_MEDICAO', freq='D'))['CHUVA'].sum()\n",
    "\n",
    "# display(df_quant_diaria)\n",
    "\n",
    "maior_dia = df_quant_diaria.idxmax()\n",
    "maior_valor = df_quant_diaria.max(axis=0)\n",
    "\n",
    "display(\"Maior quantidade de chuva registrada no dia: \" + str(maior_dia))\n",
    "display(\"Quantidade máxima registrada : \" + str(maior_valor))\n"
   ]
  }
 ],
 "metadata": {
  "kernelspec": {
   "display_name": "Python 3.9.13 64-bit (windows store)",
   "language": "python",
   "name": "python3"
  },
  "language_info": {
   "codemirror_mode": {
    "name": "ipython",
    "version": 3
   },
   "file_extension": ".py",
   "mimetype": "text/x-python",
   "name": "python",
   "nbconvert_exporter": "python",
   "pygments_lexer": "ipython3",
   "version": "3.9.13"
  },
  "orig_nbformat": 4,
  "vscode": {
   "interpreter": {
    "hash": "d4ecc00314b053340c011f30feae2cb0599056a19fa729c140ca6ecfe444bda2"
   }
  }
 },
 "nbformat": 4,
 "nbformat_minor": 2
}
