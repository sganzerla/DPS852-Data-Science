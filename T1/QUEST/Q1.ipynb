{
 "cells": [
  {
   "cell_type": "code",
   "execution_count": 112,
   "metadata": {},
   "outputs": [
    {
     "name": "stdout",
     "output_type": "stream",
     "text": [
      "1 0\n",
      "2 0\n",
      "3 0\n",
      "4 0\n",
      "5 0\n",
      "6 0\n",
      "7 0\n",
      "8 1,8\n",
      "9 0\n",
      "10 0\n",
      "11 0\n",
      "12 0\n",
      "13 0\n",
      "14 0\n",
      "1.8\n"
     ]
    }
   ],
   "source": [
    "import pandas as pd\n",
    "from datetime import datetime\n",
    "df = pd.read_csv('./ds_chuva_sm_2011_2020_3.csv', sep=';')\n",
    "\n",
    "df.dropna(inplace=True)\n",
    "\n",
    "df['DT_MEDICAO'] = pd.to_datetime(df['DT_MEDICAO'], format='%Y-%m-%d')\n",
    "\n",
    "\n",
    "datas_filtradas = df.query(\n",
    "    \"DT_MEDICAO >= '2019-06-01'\").query(\"DT_MEDICAO <= '2019-06-30'\")\n",
    "\n",
    "datas_horas_filtradas = datas_filtradas.query(\n",
    "    \"HR_MEDICAO <= 600\").query(\"HR_MEDICAO >= 600\")\n",
    "\n",
    "chuva = datas_horas_filtradas['CHUVA']\n",
    "chuva_acumulada = 0.0\n",
    "j = 1\n",
    "for i in chuva:\n",
    "    print(j, i)\n",
    "    j = j + 1\n",
    "    chuva_acumulada = chuva_acumulada + float(str(i).replace(',', '.'))\n",
    "\n",
    "print(chuva_acumulada)\n"
   ]
  },
  {
   "cell_type": "markdown",
   "metadata": {},
   "source": [
    "## 1 - A\n",
    "\n",
    "Calcule e apresente a precipitação acumulada para a hora 11, do mês 6, no ano 2019.\n",
    "Considere que devem ser somadas as precipitações de todas as 11 hora(s), de todos os dias do mês 6, no ano 2019."
   ]
  },
  {
   "cell_type": "code",
   "execution_count": 128,
   "metadata": {},
   "outputs": [
    {
     "name": "stdout",
     "output_type": "stream",
     "text": [
      "Registro acumulado em 2019 no mês 6 nas horas 11 é de: 1.8\n"
     ]
    }
   ],
   "source": [
    "import pandas as pd\n",
    "df = pd.read_csv('./ds_chuva_sm_2011_2020_3.csv', sep=';')\n",
    "\n",
    "df.dropna(inplace=True)\n",
    "\n",
    "df['DT_MEDICAO'] = pd.to_datetime(df['DT_MEDICAO'], format='%Y-%m-%d')\n",
    "\n",
    "\n",
    "datas_filtradas = df.query(\n",
    "    \"DT_MEDICAO >= '2019-06-01'\").query(\"DT_MEDICAO <= '2019-06-30'\")\n",
    "\n",
    "chuva = datas_horas_filtradas['CHUVA']\n",
    "chuva_acumulada = 0.0\n",
    "j = 1\n",
    "for i in chuva:\n",
    "    chuva_acumulada = chuva_acumulada + float(str(i).replace(',', '.'))\n",
    "\n",
    "print(\"Registro acumulado em 2019 no mês 6 nas horas 11 é de:\", chuva_acumulada)\n"
   ]
  },
  {
   "cell_type": "markdown",
   "metadata": {},
   "source": [
    "## 1 - B\n",
    "\n",
    "Calcule e apresente o número de medidas inválidas/ausentes no ano 2020.\n",
    "Resposta\n"
   ]
  },
  {
   "cell_type": "code",
   "execution_count": null,
   "metadata": {},
   "outputs": [],
   "source": [
    "import pandas as pd\n",
    "df = pd.read_csv('./ds_chuva_sm_2011_2020_3.csv', sep=';')\n",
    "\n",
    "df.dropna(inplace=True)\n",
    "\n",
    "df['DT_MEDICAO'] = pd.to_datetime(df['DT_MEDICAO'], format='%Y-%m-%d')\n",
    "\n",
    "\n",
    "datas_filtradas = df.query(\n",
    "    \"DT_MEDICAO >= '2019-06-01'\").query(\"DT_MEDICAO <= '2019-06-30'\")\n",
    "\n",
    "chuva = datas_horas_filtradas['CHUVA']\n",
    "chuva_acumulada = 0.0\n",
    "j = 1\n",
    "for i in chuva:\n",
    "    chuva_acumulada = chuva_acumulada + float(str(i).replace(',', '.'))\n",
    "\n",
    "print(\"Registro acumulado em 2019 no mês 6 nas horas 11 é de:\", chuva_acumulada)\n"
   ]
  }
 ],
 "metadata": {
  "kernelspec": {
   "display_name": "Python 3.9.13 64-bit (windows store)",
   "language": "python",
   "name": "python3"
  },
  "language_info": {
   "codemirror_mode": {
    "name": "ipython",
    "version": 3
   },
   "file_extension": ".py",
   "mimetype": "text/x-python",
   "name": "python",
   "nbconvert_exporter": "python",
   "pygments_lexer": "ipython3",
   "version": "3.9.13"
  },
  "orig_nbformat": 4,
  "vscode": {
   "interpreter": {
    "hash": "d4ecc00314b053340c011f30feae2cb0599056a19fa729c140ca6ecfe444bda2"
   }
  }
 },
 "nbformat": 4,
 "nbformat_minor": 2
}
