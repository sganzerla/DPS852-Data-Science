{
 "cells": [
  {
   "cell_type": "markdown",
   "metadata": {},
   "source": [
    "# Trabalho prático 4: representação de dados em banco de dados relacional\n"
   ]
  },
  {
   "cell_type": "markdown",
   "metadata": {},
   "source": [
    "## Criando a estrutura do banco\n"
   ]
  },
  {
   "cell_type": "code",
   "execution_count": 1,
   "metadata": {},
   "outputs": [],
   "source": [
    "import sqlite3\n",
    "import pandas as pd\n",
    "caminho = './'\n",
    "banco = 'banco.db'\n",
    "\n",
    "conexao = sqlite3.connect(caminho + banco)\n",
    "\n",
    "tabelas = pd.read_sql_query(\n",
    "    \"SELECT name FROM sqlite_master WHERE type='table'\", conexao)\n",
    "\n",
    "existe_tabela_paises = False\n",
    "existe_tabela_indicadores = False\n",
    "existe_tabela_dados = False\n",
    "\n",
    "for i, j in tabelas.iterrows():\n",
    "    if(j['name'] == 'paises'):\n",
    "        existe_tabela_paises = True\n",
    "    if(j['name'] == 'indicadores'):\n",
    "        existe_tabela_indicadores = True\n",
    "    if(j['name'] == 'dados'):\n",
    "        existe_tabela_dados = True\n",
    "\n",
    "if not(existe_tabela_paises):\n",
    "    script_cria_tabela_pais = open(\n",
    "        caminho + 'cria_tabela_pais.sql', 'r').read()\n",
    "    conexao.executescript(script_cria_tabela_pais)\n",
    "\n",
    "if not(existe_tabela_indicadores):\n",
    "    script_cria_tabela_indicadores = open(\n",
    "        caminho + 'cria_tabela_indicadores.sql', 'r').read()\n",
    "    conexao.executescript(script_cria_tabela_indicadores)\n",
    "\n",
    "if not(existe_tabela_dados):\n",
    "    script_cria_tabela_dados = open(\n",
    "        caminho + 'cria_tabela_dados.sql', 'r').read()\n",
    "    conexao.executescript(script_cria_tabela_dados)\n",
    "\n",
    "conexao.commit()\n",
    "conexao.close()\n"
   ]
  },
  {
   "cell_type": "markdown",
   "metadata": {},
   "source": [
    "## Inserindo nome dos países\n"
   ]
  },
  {
   "cell_type": "code",
   "execution_count": 10,
   "metadata": {},
   "outputs": [
    {
     "ename": "OperationalError",
     "evalue": "no such column: ABW",
     "output_type": "error",
     "traceback": [
      "\u001b[1;31m---------------------------------------------------------------------------\u001b[0m",
      "\u001b[1;31mOperationalError\u001b[0m                          Traceback (most recent call last)",
      "\u001b[1;32mc:\\Users\\aliss\\source\\repos\\ufsm\\dps852-data-science\\T4\\t1.ipynb Célula: 5\u001b[0m in \u001b[0;36m<cell line: 30>\u001b[1;34m()\u001b[0m\n\u001b[0;32m     <a href='vscode-notebook-cell:/c%3A/Users/aliss/source/repos/ufsm/dps852-data-science/T4/t1.ipynb#W4sZmlsZQ%3D%3D?line=27'>28</a>\u001b[0m conexao \u001b[39m=\u001b[39m sqlite3\u001b[39m.\u001b[39mconnect(caminho \u001b[39m+\u001b[39m banco)\n\u001b[0;32m     <a href='vscode-notebook-cell:/c%3A/Users/aliss/source/repos/ufsm/dps852-data-science/T4/t1.ipynb#W4sZmlsZQ%3D%3D?line=29'>30</a>\u001b[0m \u001b[39mfor\u001b[39;00m item \u001b[39min\u001b[39;00m script_insere_pais:\n\u001b[1;32m---> <a href='vscode-notebook-cell:/c%3A/Users/aliss/source/repos/ufsm/dps852-data-science/T4/t1.ipynb#W4sZmlsZQ%3D%3D?line=30'>31</a>\u001b[0m     conexao\u001b[39m.\u001b[39;49mexecutescript(item)\n\u001b[0;32m     <a href='vscode-notebook-cell:/c%3A/Users/aliss/source/repos/ufsm/dps852-data-science/T4/t1.ipynb#W4sZmlsZQ%3D%3D?line=31'>32</a>\u001b[0m     conexao\u001b[39m.\u001b[39mcommit()\n\u001b[0;32m     <a href='vscode-notebook-cell:/c%3A/Users/aliss/source/repos/ufsm/dps852-data-science/T4/t1.ipynb#W4sZmlsZQ%3D%3D?line=33'>34</a>\u001b[0m conexao\u001b[39m.\u001b[39mclose()\n",
      "\u001b[1;31mOperationalError\u001b[0m: no such column: ABW"
     ]
    }
   ],
   "source": [
    "import pandas as pd\n",
    "\n",
    "caminho: str = './'\n",
    "arquivo: str = 'WDICountry.csv'\n",
    "caminho = './'\n",
    "banco = 'banco.db'\n",
    "\n",
    "df_paises = pd.read_csv(caminho + arquivo)\n",
    "\n",
    "script_insere_pais: list[str] = []\n",
    "\n",
    "for coluna, linha in df_paises.iterrows():\n",
    "    country_code = linha['Country Code']\n",
    "    short_name = linha['Short Name']\n",
    "    region = linha['Region']\n",
    "    script = f\"INSERT INTO paises(nome_curto,nome_longo, regiao) VALUES (`{country_code}`,`{short_name}`,`{region}`);\"\n",
    "\n",
    "    script_insere_pais.append(script)\n",
    "\n",
    "conexao = sqlite3.connect(caminho + banco)\n",
    "\n",
    "for item in script_insere_pais:\n",
    "    conexao.executescript(item)\n",
    "    conexao.commit()\n",
    "\n",
    "conexao.close()\n"
   ]
  }
 ],
 "metadata": {
  "kernelspec": {
   "display_name": "Python 3.9.13 64-bit (windows store)",
   "language": "python",
   "name": "python3"
  },
  "language_info": {
   "codemirror_mode": {
    "name": "ipython",
    "version": 3
   },
   "file_extension": ".py",
   "mimetype": "text/x-python",
   "name": "python",
   "nbconvert_exporter": "python",
   "pygments_lexer": "ipython3",
   "version": "3.9.13"
  },
  "orig_nbformat": 4,
  "vscode": {
   "interpreter": {
    "hash": "d4ecc00314b053340c011f30feae2cb0599056a19fa729c140ca6ecfe444bda2"
   }
  }
 },
 "nbformat": 4,
 "nbformat_minor": 2
}
