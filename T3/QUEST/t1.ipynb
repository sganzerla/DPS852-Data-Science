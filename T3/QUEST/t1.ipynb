{
 "cells": [
  {
   "cell_type": "markdown",
   "metadata": {},
   "source": [
    "# Questionário Trabalho prático 3\n",
    "\n",
    "### 1 - Considerando o desenvolvimento do trabalho prático 3, apresente em anexo a figura que descreve o histograma para o indicador \"Inflation, consumer prices (annual %)\" para o Brasil, entre os anos de 1990 e 2010.\n"
   ]
  },
  {
   "cell_type": "code",
   "execution_count": 25,
   "metadata": {},
   "outputs": [
    {
     "data": {
      "text/html": [
       "<div>\n",
       "<style scoped>\n",
       "    .dataframe tbody tr th:only-of-type {\n",
       "        vertical-align: middle;\n",
       "    }\n",
       "\n",
       "    .dataframe tbody tr th {\n",
       "        vertical-align: top;\n",
       "    }\n",
       "\n",
       "    .dataframe thead th {\n",
       "        text-align: right;\n",
       "    }\n",
       "</style>\n",
       "<table border=\"1\" class=\"dataframe\">\n",
       "  <thead>\n",
       "    <tr style=\"text-align: right;\">\n",
       "      <th></th>\n",
       "      <th>1990</th>\n",
       "      <th>1991</th>\n",
       "      <th>1992</th>\n",
       "      <th>1993</th>\n",
       "      <th>1994</th>\n",
       "      <th>1995</th>\n",
       "      <th>1996</th>\n",
       "      <th>1997</th>\n",
       "      <th>1998</th>\n",
       "      <th>1999</th>\n",
       "      <th>...</th>\n",
       "      <th>2001</th>\n",
       "      <th>2002</th>\n",
       "      <th>2003</th>\n",
       "      <th>2004</th>\n",
       "      <th>2005</th>\n",
       "      <th>2006</th>\n",
       "      <th>2007</th>\n",
       "      <th>2008</th>\n",
       "      <th>2009</th>\n",
       "      <th>2010</th>\n",
       "    </tr>\n",
       "  </thead>\n",
       "  <tbody>\n",
       "    <tr>\n",
       "      <th>0</th>\n",
       "      <td>2947.73307</td>\n",
       "      <td>432.786664</td>\n",
       "      <td>951.962053</td>\n",
       "      <td>1927.38079</td>\n",
       "      <td>2075.888398</td>\n",
       "      <td>66.007034</td>\n",
       "      <td>15.757666</td>\n",
       "      <td>6.926713</td>\n",
       "      <td>3.195076</td>\n",
       "      <td>4.858447</td>\n",
       "      <td>...</td>\n",
       "      <td>6.840359</td>\n",
       "      <td>8.450164</td>\n",
       "      <td>14.71492</td>\n",
       "      <td>6.597185</td>\n",
       "      <td>6.869537</td>\n",
       "      <td>4.183568</td>\n",
       "      <td>3.641273</td>\n",
       "      <td>5.678594</td>\n",
       "      <td>4.888035</td>\n",
       "      <td>5.038727</td>\n",
       "    </tr>\n",
       "  </tbody>\n",
       "</table>\n",
       "<p>1 rows × 21 columns</p>\n",
       "</div>"
      ],
      "text/plain": [
       "         1990        1991        1992        1993         1994       1995  \\\n",
       "0  2947.73307  432.786664  951.962053  1927.38079  2075.888398  66.007034   \n",
       "\n",
       "        1996      1997      1998      1999  ...      2001      2002      2003  \\\n",
       "0  15.757666  6.926713  3.195076  4.858447  ...  6.840359  8.450164  14.71492   \n",
       "\n",
       "       2004      2005      2006      2007      2008      2009      2010  \n",
       "0  6.597185  6.869537  4.183568  3.641273  5.678594  4.888035  5.038727  \n",
       "\n",
       "[1 rows x 21 columns]"
      ]
     },
     "metadata": {},
     "output_type": "display_data"
    },
    {
     "data": {
      "text/plain": [
       "array([[<AxesSubplot:title={'center':'0'}>]], dtype=object)"
      ]
     },
     "execution_count": 25,
     "metadata": {},
     "output_type": "execute_result"
    },
    {
     "data": {
      "image/png": "[encoded data removed]",
      "text/plain": [
       "<Figure size 648x360 with 1 Axes>"
      ]
     },
     "metadata": {
      "needs_background": "light"
     },
     "output_type": "display_data"
    }
   ],
   "source": [
    "import pandas as pd\n",
    "from matplotlib import pyplot as plt\n",
    "\n",
    "caminho: str = '../'\n",
    "arquivo: str = 'WDIData.csv'\n",
    "\n",
    "df_completo = pd.read_csv(caminho + arquivo)\n",
    "\n",
    "filtro_pais: list[str] = ['BRA']\n",
    "query_pais = '`Country Code` in @filtro_pais'\n",
    "df_filtrado_pais = df_completo.query(query_pais).reset_index(drop=True)\n",
    "\n",
    "\n",
    "filtro_indicador: list[str] = ['Inflation, consumer prices (annual %)']\n",
    "query_indicador = '`Indicator Name` in @filtro_indicador'\n",
    "df_filtrado_indicador = df_filtrado_pais.query(\n",
    "    query_indicador).reset_index(drop=True)\n",
    "\n",
    "# display(df_filtrado_indicador)\n",
    "\n",
    "# excluindo período que não é entre 1990 e 2010\n",
    "df_filtrado_periodo = df_filtrado_indicador\n",
    "for coluna in df_filtrado_indicador:\n",
    "    # apago colunas não numericas\n",
    "    if not (coluna.isnumeric()):\n",
    "        df_filtrado_periodo = df_filtrado_periodo.drop([coluna], axis=1)\n",
    "    else:\n",
    "        # apago periodo fora da faixa escolhida\n",
    "        if(int(coluna) < 1990 or int(coluna) > 2010):\n",
    "            df_filtrado_periodo = df_filtrado_periodo.drop([coluna], axis=1)\n",
    "\n",
    "display(df_filtrado_periodo)\n",
    "\n",
    "df_filtrado_periodo.dropna(axis=1, inplace=True)\n",
    "df_filtrado_periodo.T.hist(figsize=[9, 5])\n"
   ]
  }
 ],
 "metadata": {
  "kernelspec": {
   "display_name": "Python 3.9.7 ('base')",
   "language": "python",
   "name": "python3"
  },
  "language_info": {
   "codemirror_mode": {
    "name": "ipython",
    "version": 3
   },
   "file_extension": ".py",
   "mimetype": "text/x-python",
   "name": "python",
   "nbconvert_exporter": "python",
   "pygments_lexer": "ipython3",
   "version": "3.9.7"
  },
  "orig_nbformat": 4,
  "vscode": {
   "interpreter": {
    "hash": "2b6d281538c488b9e400ab39d450b42a19cd685c2e4e72cc47179cc0022e4e5b"
   }
  }
 },
 "nbformat": 4,
 "nbformat_minor": 2
}
