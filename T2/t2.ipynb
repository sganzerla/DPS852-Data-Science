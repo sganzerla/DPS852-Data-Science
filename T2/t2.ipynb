{
 "cells": [
  {
   "cell_type": "markdown",
   "id": "fce125b9",
   "metadata": {},
   "source": [
    "# Trabalho 2 - Funções usadas na resolução dos exercícios\n"
   ]
  },
  {
   "cell_type": "code",
   "execution_count": 110,
   "id": "c462171a",
   "metadata": {},
   "outputs": [],
   "source": [
    "import pandas as pd\n",
    "import matplotlib.pyplot as plt\n",
    "import statistics as stat\n",
    "\n",
    "\n",
    "def ler_arquivo_csv(caminho: str = './', nome_arquivo: str = '', separador: str = \";\", decimal: str = \".\") -> pd.DataFrame:\n",
    "    return pd.read_csv(caminho + nome_arquivo, sep=separador, decimal=decimal)\n",
    "\n",
    "\n",
    "def gravar_arquivo_csv(caminho: str = './', nome_arquivo: str = '', dataframe: pd.DataFrame = None, separador: str = \";\", decimal: str = \".\") -> None:\n",
    "    dataframe.to_csv(caminho + nome_arquivo, index=False,\n",
    "                     sep=separador, decimal=decimal)\n",
    "\n",
    "\n",
    "def apagar_colunas(dataframe: pd.DataFrame, nome_colunas: list[str]) -> pd.DataFrame:\n",
    "    return dataframe.drop(nome_colunas, axis=1)\n",
    "\n",
    "\n",
    "def obter_limite_controle(media_dataframe: float, desvio_padrao_dataframe: float, limite_superior: bool) -> float:\n",
    "\n",
    "    if(limite_superior):\n",
    "        # limite superior de controle\n",
    "        lsc = media_dataframe + desvio_padrao_dataframe\n",
    "        print(\"Limite Superior de Controle = \", lsc)\n",
    "        return lsc\n",
    "    else:\n",
    "        # limite inferior de controle\n",
    "        lic = media_dataframe - desvio_padrao_dataframe\n",
    "        print(\"Limite Inferior de Controle = \", lic)\n",
    "        return lic\n",
    "\n",
    "\n",
    "def gerar_grafico_controle(dataframe: pd.DataFrame, dataframe_indices: list[str], rotulo_eixo_x: str, rotulo_eixo_y: str, titulo_grafico: str):\n",
    "\n",
    "    # médias\n",
    "    medias = dataframe.mean(numeric_only=True, skipna=True, axis=0)\n",
    "    media_geral = medias.mean()\n",
    "    print(\"Média Geral = \", media_geral)\n",
    "\n",
    "    # desvio padrão anuais\n",
    "    desvios_padrao = dataframe.std(numeric_only=True, skipna=True, axis=0)\n",
    "    desvio_padrao_geral = desvios_padrao.std()\n",
    "    print(\"Desvio Padrão Geral = \", desvio_padrao_geral)\n",
    "\n",
    "    # limite superior de controle\n",
    "    lsc = obter_limite_controle(media_dataframe=media_geral,\n",
    "                                desvio_padrao_dataframe=desvio_padrao_geral * 2, limite_superior=True)\n",
    "\n",
    "    # limite inferior de controle\n",
    "    lic = obter_limite_controle(media_dataframe=media_geral,\n",
    "                                desvio_padrao_dataframe=desvio_padrao_geral * 2, limite_superior=False)\n",
    "\n",
    "    # nome das colunas\n",
    "    eixo_x = dataframe.columns\n",
    "\n",
    "    lsc_vetor = [lsc] * len(eixo_x)\n",
    "    lic_vetor = [lic] * len(eixo_x)\n",
    "    media_vetor = [media_geral] * len(eixo_x)\n",
    "\n",
    "    plt.plot(eixo_x, lsc_vetor, 'r--', label='Limite Superior de Controle')\n",
    "    plt.plot(eixo_x, media_vetor, 'b--', label='Média Geral')\n",
    "    plt.plot(eixo_x, lic_vetor, 'r--', label='Limite Inferior de Controle')\n",
    "    plt.plot(eixo_x, medias, 'g-', label='Média Anual')\n",
    "\n",
    "    for linha, coluna, in dataframe.iterrows():\n",
    "        # transformar coluna em array\n",
    "        coluna_array: pd.Series = coluna.values\n",
    "        # pegar o nome do país pelo índice da tabela original\n",
    "        nome_pais: str = dataframe_indices[linha]\n",
    "        plt.plot(eixo_x, coluna_array, label=nome_pais)\n",
    "\n",
    "    fig = plt.gcf()\n",
    "    fig.set_size_inches(18.5, 10.5, forward=True)\n",
    "    plt.grid()\n",
    "    plt.title(titulo_grafico)\n",
    "    plt.xlabel(rotulo_eixo_x)\n",
    "    plt.ylabel(rotulo_eixo_y)\n",
    "    plt.tick_params(rotation=45)\n",
    "    plt.legend(bbox_to_anchor=(1.04, 1), loc=\"upper left\")\n",
    "\n",
    "    plt.show()\n",
    "\n",
    "\n",
    "def obter_elementos_saem_faixa_controle(dataframe: pd.DataFrame, limite_superior: bool, valor_limite: float) -> pd.DataFrame:\n",
    "    # monta a expressao conforme o tipo de limite, superior ou inferior\n",
    "    expressao = lambda x: x >= valor_limite if limite_superior else x <= valor_limite\n",
    "    \n",
    "    # retorna um dataframe de booleanos apenas nos valores existentes, mantendo NAN nas posições vazias\n",
    "    fora_faixa_controle = dataframe.applymap( expressao, na_action='ignore')\n",
    "\n",
    "    return fora_faixa_controle\n",
    "   \n",
    "def exibir_saida_faixa_controle(dataframe: pd.DataFrame, dataframe_indices: list[str], limite_superior: bool):\n",
    "\n",
    "    texto = 'acima' if limite_superior else 'abaixo'\n",
    "\n",
    "    for linha, coluna in dataframe.iterrows():\n",
    "        nome_pais: str = dataframe_indices[linha]\n",
    "        fora_faixa = coluna.isin([limite_superior]).sum()\n",
    "        periodo_fora_faixa: pd.Series = coluna[coluna == limite_superior].index\n",
    "        if(fora_faixa > 0):\n",
    "            print(\n",
    "                f\"{nome_pais} ficou {texto} da faixa de controle {fora_faixa} vezes, sendo os anos de:\")\n",
    "            display(periodo_fora_faixa.values)\n",
    "        else:\n",
    "            display(\n",
    "                f\"{nome_pais} não ficou {texto} da faixa de controle nenhuma vez.\")\n"
   ]
  },
  {
   "cell_type": "markdown",
   "id": "546f4733",
   "metadata": {},
   "source": [
    "## Atividade 1\n",
    "\n",
    "Crie um dataset que envolva apenas o indicador GDP e persista em um arquivo, sem as colunas \"Indicator Name\" e \"Indicator Code\""
   ]
  },
  {
   "cell_type": "code",
   "execution_count": 111,
   "id": "2bbcd764",
   "metadata": {},
   "outputs": [
    {
     "name": "stdout",
     "output_type": "stream",
     "text": [
      "Antes de remover haviam essas colunas.\n"
     ]
    },
    {
     "data": {
      "text/html": [
       "<div>\n",
       "<style scoped>\n",
       "    .dataframe tbody tr th:only-of-type {\n",
       "        vertical-align: middle;\n",
       "    }\n",
       "\n",
       "    .dataframe tbody tr th {\n",
       "        vertical-align: top;\n",
       "    }\n",
       "\n",
       "    .dataframe thead th {\n",
       "        text-align: right;\n",
       "    }\n",
       "</style>\n",
       "<table border=\"1\" class=\"dataframe\">\n",
       "  <thead>\n",
       "    <tr style=\"text-align: right;\">\n",
       "      <th></th>\n",
       "      <th>index</th>\n",
       "      <th>Country Name</th>\n",
       "      <th>Country Code</th>\n",
       "      <th>Indicator Name</th>\n",
       "      <th>Indicator Code</th>\n",
       "      <th>1960</th>\n",
       "      <th>1961</th>\n",
       "      <th>1962</th>\n",
       "      <th>1963</th>\n",
       "      <th>1964</th>\n",
       "      <th>...</th>\n",
       "      <th>2004</th>\n",
       "      <th>2005</th>\n",
       "      <th>2006</th>\n",
       "      <th>2007</th>\n",
       "      <th>2008</th>\n",
       "      <th>2009</th>\n",
       "      <th>2010</th>\n",
       "      <th>2011</th>\n",
       "      <th>2012</th>\n",
       "      <th>2013</th>\n",
       "    </tr>\n",
       "  </thead>\n",
       "  <tbody>\n",
       "  </tbody>\n",
       "</table>\n",
       "<p>0 rows × 59 columns</p>\n",
       "</div>"
      ],
      "text/plain": [
       "Empty DataFrame\n",
       "Columns: [index, Country Name, Country Code, Indicator Name, Indicator Code, 1960, 1961, 1962, 1963, 1964, 1965, 1966, 1967, 1968, 1969, 1970, 1971, 1972, 1973, 1974, 1975, 1976, 1977, 1978, 1979, 1980, 1981, 1982, 1983, 1984, 1985, 1986, 1987, 1988, 1989, 1990, 1991, 1992, 1993, 1994, 1995, 1996, 1997, 1998, 1999, 2000, 2001, 2002, 2003, 2004, 2005, 2006, 2007, 2008, 2009, 2010, 2011, 2012, 2013]\n",
       "Index: []\n",
       "\n",
       "[0 rows x 59 columns]"
      ]
     },
     "metadata": {},
     "output_type": "display_data"
    },
    {
     "name": "stdout",
     "output_type": "stream",
     "text": [
      "Depois de removido há as seguintes colunas.\n"
     ]
    },
    {
     "data": {
      "text/html": [
       "<div>\n",
       "<style scoped>\n",
       "    .dataframe tbody tr th:only-of-type {\n",
       "        vertical-align: middle;\n",
       "    }\n",
       "\n",
       "    .dataframe tbody tr th {\n",
       "        vertical-align: top;\n",
       "    }\n",
       "\n",
       "    .dataframe thead th {\n",
       "        text-align: right;\n",
       "    }\n",
       "</style>\n",
       "<table border=\"1\" class=\"dataframe\">\n",
       "  <thead>\n",
       "    <tr style=\"text-align: right;\">\n",
       "      <th></th>\n",
       "      <th>Country Name</th>\n",
       "      <th>Country Code</th>\n",
       "      <th>1960</th>\n",
       "      <th>1961</th>\n",
       "      <th>1962</th>\n",
       "      <th>1963</th>\n",
       "      <th>1964</th>\n",
       "      <th>1965</th>\n",
       "      <th>1966</th>\n",
       "      <th>1967</th>\n",
       "      <th>...</th>\n",
       "      <th>2004</th>\n",
       "      <th>2005</th>\n",
       "      <th>2006</th>\n",
       "      <th>2007</th>\n",
       "      <th>2008</th>\n",
       "      <th>2009</th>\n",
       "      <th>2010</th>\n",
       "      <th>2011</th>\n",
       "      <th>2012</th>\n",
       "      <th>2013</th>\n",
       "    </tr>\n",
       "  </thead>\n",
       "  <tbody>\n",
       "  </tbody>\n",
       "</table>\n",
       "<p>0 rows × 56 columns</p>\n",
       "</div>"
      ],
      "text/plain": [
       "Empty DataFrame\n",
       "Columns: [Country Name, Country Code, 1960, 1961, 1962, 1963, 1964, 1965, 1966, 1967, 1968, 1969, 1970, 1971, 1972, 1973, 1974, 1975, 1976, 1977, 1978, 1979, 1980, 1981, 1982, 1983, 1984, 1985, 1986, 1987, 1988, 1989, 1990, 1991, 1992, 1993, 1994, 1995, 1996, 1997, 1998, 1999, 2000, 2001, 2002, 2003, 2004, 2005, 2006, 2007, 2008, 2009, 2010, 2011, 2012, 2013]\n",
       "Index: []\n",
       "\n",
       "[0 rows x 56 columns]"
      ]
     },
     "metadata": {},
     "output_type": "display_data"
    }
   ],
   "source": [
    "import pandas as pd\n",
    "\n",
    "df_dados = ler_arquivo_csv(\n",
    "    nome_arquivo='dataset_bancomundial.csv', decimal=',')\n",
    "\n",
    "# filtrar ocorrencias de um único termo em uma coluna\n",
    "filtro = 'GDP per capita'\n",
    "\n",
    "# filtrando apenas as linhas que contém o critério do filtro na coluna Indicator Name\n",
    "df_gpd = df_dados[df_dados['Indicator Name'].str.contains(filtro)]\n",
    "\n",
    "print(\"Antes de remover haviam essas colunas.\")\n",
    "display(df_gpd.head(0))\n",
    "\n",
    "# apagar colunas do dataframe\n",
    "df_gpd = apagar_colunas(dataframe=df_gpd, nome_colunas=[\n",
    "                        'Indicator Name', 'Indicator Code', 'index'])\n",
    "\n",
    "df_gpd = df_gpd.reset_index(drop=True)\n",
    "\n",
    "print(\"Depois de removido há as seguintes colunas.\")\n",
    "display(df_gpd.head(0))\n",
    "\n",
    "# gravando em um novo arquivo\n",
    "gravar_arquivo_csv(nome_arquivo='dataset_gpd_ex1.csv', dataframe=df_gpd)\n"
   ]
  },
  {
   "cell_type": "markdown",
   "id": "fecdca33",
   "metadata": {},
   "source": [
    "## Atividade 2\n",
    "Selecione os países da América do Sul e crie um novo dataset, persistindo em arquivo"
   ]
  },
  {
   "cell_type": "code",
   "execution_count": 112,
   "id": "4e5fe372",
   "metadata": {},
   "outputs": [
    {
     "data": {
      "text/html": [
       "<div>\n",
       "<style scoped>\n",
       "    .dataframe tbody tr th:only-of-type {\n",
       "        vertical-align: middle;\n",
       "    }\n",
       "\n",
       "    .dataframe tbody tr th {\n",
       "        vertical-align: top;\n",
       "    }\n",
       "\n",
       "    .dataframe thead th {\n",
       "        text-align: right;\n",
       "    }\n",
       "</style>\n",
       "<table border=\"1\" class=\"dataframe\">\n",
       "  <thead>\n",
       "    <tr style=\"text-align: right;\">\n",
       "      <th></th>\n",
       "      <th>Country Code</th>\n",
       "      <th>Short Name</th>\n",
       "      <th>Table Name</th>\n",
       "      <th>Long Name</th>\n",
       "      <th>2-alpha code</th>\n",
       "      <th>Currency Unit</th>\n",
       "      <th>Special Notes</th>\n",
       "      <th>Region</th>\n",
       "      <th>Income Group</th>\n",
       "      <th>WB-2 code</th>\n",
       "      <th>...</th>\n",
       "      <th>Government Accounting concept</th>\n",
       "      <th>IMF data dissemination standard</th>\n",
       "      <th>Latest population census</th>\n",
       "      <th>Latest household survey</th>\n",
       "      <th>Source of most recent Income and expenditure data</th>\n",
       "      <th>Vital registration complete</th>\n",
       "      <th>Latest agricultural census</th>\n",
       "      <th>Latest industrial data</th>\n",
       "      <th>Latest trade data</th>\n",
       "      <th>Latest water withdrawal data</th>\n",
       "    </tr>\n",
       "  </thead>\n",
       "  <tbody>\n",
       "    <tr>\n",
       "      <th>0</th>\n",
       "      <td>ARG</td>\n",
       "      <td>Argentina</td>\n",
       "      <td>Argentina</td>\n",
       "      <td>Argentine Republic</td>\n",
       "      <td>AR</td>\n",
       "      <td>Argentine peso</td>\n",
       "      <td>The base year has changed to 2004.</td>\n",
       "      <td>Latin America &amp; Caribbean</td>\n",
       "      <td>Upper middle income; based on FY13 income clas...</td>\n",
       "      <td>AR</td>\n",
       "      <td>...</td>\n",
       "      <td>Consolidated central government</td>\n",
       "      <td>Special Data Dissemination Standard (SDDS)</td>\n",
       "      <td>2010</td>\n",
       "      <td>Multiple Indicator Cluster Survey (MICS), 2011/12</td>\n",
       "      <td>Integrated household survey (IHS), 2012</td>\n",
       "      <td>Yes</td>\n",
       "      <td>2013</td>\n",
       "      <td>2002.0</td>\n",
       "      <td>2013.0</td>\n",
       "      <td>2011.0</td>\n",
       "    </tr>\n",
       "    <tr>\n",
       "      <th>1</th>\n",
       "      <td>BOL</td>\n",
       "      <td>Bolivia</td>\n",
       "      <td>Bolivia</td>\n",
       "      <td>Plurinational State of Bolivia</td>\n",
       "      <td>BO</td>\n",
       "      <td>Bolivian Boliviano</td>\n",
       "      <td>NaN</td>\n",
       "      <td>Latin America &amp; Caribbean</td>\n",
       "      <td>Lower middle income; based on FY13 income clas...</td>\n",
       "      <td>BO</td>\n",
       "      <td>...</td>\n",
       "      <td>Consolidated central government</td>\n",
       "      <td>General Data Dissemination System (GDDS)</td>\n",
       "      <td>2012</td>\n",
       "      <td>Demographic and Health Survey (DHS), 2008</td>\n",
       "      <td>Integrated household survey (IHS), 2012</td>\n",
       "      <td>NaN</td>\n",
       "      <td>2013</td>\n",
       "      <td>NaN</td>\n",
       "      <td>2013.0</td>\n",
       "      <td>2000.0</td>\n",
       "    </tr>\n",
       "    <tr>\n",
       "      <th>2</th>\n",
       "      <td>BRA</td>\n",
       "      <td>Brazil</td>\n",
       "      <td>Brazil</td>\n",
       "      <td>Federative Republic of Brazil</td>\n",
       "      <td>BR</td>\n",
       "      <td>Brazilian real</td>\n",
       "      <td>NaN</td>\n",
       "      <td>Latin America &amp; Caribbean</td>\n",
       "      <td>Upper middle income; based on FY13 income clas...</td>\n",
       "      <td>BR</td>\n",
       "      <td>...</td>\n",
       "      <td>Consolidated central government</td>\n",
       "      <td>Special Data Dissemination Standard (SDDS)</td>\n",
       "      <td>2010</td>\n",
       "      <td>World Health Survey (WHS), 2003</td>\n",
       "      <td>Integrated household survey (IHS), 2012</td>\n",
       "      <td>NaN</td>\n",
       "      <td>2006</td>\n",
       "      <td>2011.0</td>\n",
       "      <td>2013.0</td>\n",
       "      <td>2010.0</td>\n",
       "    </tr>\n",
       "    <tr>\n",
       "      <th>3</th>\n",
       "      <td>CHL</td>\n",
       "      <td>Chile</td>\n",
       "      <td>Chile</td>\n",
       "      <td>Republic of Chile</td>\n",
       "      <td>CL</td>\n",
       "      <td>Chilean peso</td>\n",
       "      <td>NaN</td>\n",
       "      <td>Latin America &amp; Caribbean</td>\n",
       "      <td>Upper middle income; based on FY13 income clas...</td>\n",
       "      <td>CL</td>\n",
       "      <td>...</td>\n",
       "      <td>Consolidated central government</td>\n",
       "      <td>Special Data Dissemination Standard (SDDS)</td>\n",
       "      <td>2012</td>\n",
       "      <td>NaN</td>\n",
       "      <td>Integrated household survey (IHS), 2011</td>\n",
       "      <td>Yes</td>\n",
       "      <td>2007</td>\n",
       "      <td>NaN</td>\n",
       "      <td>2013.0</td>\n",
       "      <td>2006.0</td>\n",
       "    </tr>\n",
       "    <tr>\n",
       "      <th>4</th>\n",
       "      <td>COL</td>\n",
       "      <td>Colombia</td>\n",
       "      <td>Colombia</td>\n",
       "      <td>Republic of Colombia</td>\n",
       "      <td>CO</td>\n",
       "      <td>Colombian peso</td>\n",
       "      <td>NaN</td>\n",
       "      <td>Latin America &amp; Caribbean</td>\n",
       "      <td>Upper middle income; based on FY13 income clas...</td>\n",
       "      <td>CO</td>\n",
       "      <td>...</td>\n",
       "      <td>Consolidated central government</td>\n",
       "      <td>Special Data Dissemination Standard (SDDS)</td>\n",
       "      <td>2006</td>\n",
       "      <td>Demographic and Health Survey (DHS), 2010</td>\n",
       "      <td>Integrated household survey (IHS), 2012</td>\n",
       "      <td>NaN</td>\n",
       "      <td>2013</td>\n",
       "      <td>2011.0</td>\n",
       "      <td>2013.0</td>\n",
       "      <td>2008.0</td>\n",
       "    </tr>\n",
       "    <tr>\n",
       "      <th>5</th>\n",
       "      <td>ECU</td>\n",
       "      <td>Ecuador</td>\n",
       "      <td>Ecuador</td>\n",
       "      <td>Republic of Ecuador</td>\n",
       "      <td>EC</td>\n",
       "      <td>U.S. dollar</td>\n",
       "      <td>National accounts have been revised from 1965 ...</td>\n",
       "      <td>Latin America &amp; Caribbean</td>\n",
       "      <td>Upper middle income; based on FY13 income clas...</td>\n",
       "      <td>EC</td>\n",
       "      <td>...</td>\n",
       "      <td>Budgetary central government</td>\n",
       "      <td>Special Data Dissemination Standard (SDDS)</td>\n",
       "      <td>2010</td>\n",
       "      <td>Reproductive Health Survey (RHS), 2004</td>\n",
       "      <td>Integrated household survey (IHS), 2013</td>\n",
       "      <td>NaN</td>\n",
       "      <td>2013/15</td>\n",
       "      <td>2008.0</td>\n",
       "      <td>2013.0</td>\n",
       "      <td>2005.0</td>\n",
       "    </tr>\n",
       "    <tr>\n",
       "      <th>6</th>\n",
       "      <td>GUY</td>\n",
       "      <td>Guyana</td>\n",
       "      <td>Guyana</td>\n",
       "      <td>Co-operative Republic of Guyana</td>\n",
       "      <td>GY</td>\n",
       "      <td>Guyana dollar</td>\n",
       "      <td>In 2010, the Bureau of Statistics introduced a...</td>\n",
       "      <td>Latin America &amp; Caribbean</td>\n",
       "      <td>Lower middle income; based on FY13 income clas...</td>\n",
       "      <td>GY</td>\n",
       "      <td>...</td>\n",
       "      <td>NaN</td>\n",
       "      <td>General Data Dissemination System (GDDS)</td>\n",
       "      <td>2012</td>\n",
       "      <td>Multiple Indicator Cluster Survey (MICS), 2014</td>\n",
       "      <td>Integrated household survey (IHS), 1998</td>\n",
       "      <td>NaN</td>\n",
       "      <td>NaN</td>\n",
       "      <td>NaN</td>\n",
       "      <td>2013.0</td>\n",
       "      <td>2010.0</td>\n",
       "    </tr>\n",
       "    <tr>\n",
       "      <th>7</th>\n",
       "      <td>PRY</td>\n",
       "      <td>Paraguay</td>\n",
       "      <td>Paraguay</td>\n",
       "      <td>Republic of Paraguay</td>\n",
       "      <td>PY</td>\n",
       "      <td>Paraguayan guarani</td>\n",
       "      <td>National accounts data have been revised from ...</td>\n",
       "      <td>Latin America &amp; Caribbean</td>\n",
       "      <td>Lower middle income; based on FY13 income clas...</td>\n",
       "      <td>PY</td>\n",
       "      <td>...</td>\n",
       "      <td>Consolidated central government</td>\n",
       "      <td>General Data Dissemination System (GDDS)</td>\n",
       "      <td>2012</td>\n",
       "      <td>Reproductive Health Survey (RHS), 2008</td>\n",
       "      <td>Integrated household survey (IHS), 2013</td>\n",
       "      <td>NaN</td>\n",
       "      <td>2008</td>\n",
       "      <td>2002.0</td>\n",
       "      <td>2013.0</td>\n",
       "      <td>2012.0</td>\n",
       "    </tr>\n",
       "    <tr>\n",
       "      <th>8</th>\n",
       "      <td>PER</td>\n",
       "      <td>Peru</td>\n",
       "      <td>Peru</td>\n",
       "      <td>Republic of Peru</td>\n",
       "      <td>PE</td>\n",
       "      <td>Peruvian new sol</td>\n",
       "      <td>The new base year is 2007.</td>\n",
       "      <td>Latin America &amp; Caribbean</td>\n",
       "      <td>Upper middle income; based on FY13 income clas...</td>\n",
       "      <td>PE</td>\n",
       "      <td>...</td>\n",
       "      <td>Consolidated central government</td>\n",
       "      <td>Special Data Dissemination Standard (SDDS)</td>\n",
       "      <td>2007</td>\n",
       "      <td>Continuous Demographic and Health Survey (DHS)...</td>\n",
       "      <td>Integrated household survey (IHS), 2013</td>\n",
       "      <td>NaN</td>\n",
       "      <td>2012</td>\n",
       "      <td>2011.0</td>\n",
       "      <td>2013.0</td>\n",
       "      <td>2008.0</td>\n",
       "    </tr>\n",
       "    <tr>\n",
       "      <th>9</th>\n",
       "      <td>SUR</td>\n",
       "      <td>Suriname</td>\n",
       "      <td>Suriname</td>\n",
       "      <td>Republic of Suriname</td>\n",
       "      <td>SR</td>\n",
       "      <td>Suriname dollar</td>\n",
       "      <td>NaN</td>\n",
       "      <td>Latin America &amp; Caribbean</td>\n",
       "      <td>Upper middle income; based on FY13 income clas...</td>\n",
       "      <td>SR</td>\n",
       "      <td>...</td>\n",
       "      <td>Budgetary central government</td>\n",
       "      <td>General Data Dissemination System (GDDS)</td>\n",
       "      <td>2012</td>\n",
       "      <td>Multiple Indicator Cluster Survey (MICS), 2010</td>\n",
       "      <td>Expenditure survey/budget survey (ES/BS), 1999</td>\n",
       "      <td>Yes</td>\n",
       "      <td>2008</td>\n",
       "      <td>2004.0</td>\n",
       "      <td>2011.0</td>\n",
       "      <td>2006.0</td>\n",
       "    </tr>\n",
       "    <tr>\n",
       "      <th>10</th>\n",
       "      <td>URY</td>\n",
       "      <td>Uruguay</td>\n",
       "      <td>Uruguay</td>\n",
       "      <td>Oriental Republic of Uruguay</td>\n",
       "      <td>UY</td>\n",
       "      <td>Uruguayan peso</td>\n",
       "      <td>In 2011, the Central Bank revised national acc...</td>\n",
       "      <td>Latin America &amp; Caribbean</td>\n",
       "      <td>Upper middle income; based on FY13 income clas...</td>\n",
       "      <td>UY</td>\n",
       "      <td>...</td>\n",
       "      <td>Consolidated central government</td>\n",
       "      <td>Special Data Dissemination Standard (SDDS)</td>\n",
       "      <td>2011</td>\n",
       "      <td>Multiple Indicator Cluster Survey (MICS), 2012/13</td>\n",
       "      <td>Integrated household survey (IHS), 2013</td>\n",
       "      <td>Yes</td>\n",
       "      <td>2011</td>\n",
       "      <td>2009.0</td>\n",
       "      <td>2013.0</td>\n",
       "      <td>2000.0</td>\n",
       "    </tr>\n",
       "    <tr>\n",
       "      <th>11</th>\n",
       "      <td>VEN</td>\n",
       "      <td>Venezuela</td>\n",
       "      <td>Venezuela, RB</td>\n",
       "      <td>República Bolivariana de Venezuela</td>\n",
       "      <td>VE</td>\n",
       "      <td>Venezuelan bolivar fuerte</td>\n",
       "      <td>NaN</td>\n",
       "      <td>Latin America &amp; Caribbean</td>\n",
       "      <td>Upper middle income; based on FY13 income clas...</td>\n",
       "      <td>VE</td>\n",
       "      <td>...</td>\n",
       "      <td>Consolidated central government</td>\n",
       "      <td>General Data Dissemination System (GDDS)</td>\n",
       "      <td>2011</td>\n",
       "      <td>Multiple Indicator Cluster Survey (MICS), 2000</td>\n",
       "      <td>Integrated household survey (IHS), 2012</td>\n",
       "      <td>Yes</td>\n",
       "      <td>2007</td>\n",
       "      <td>NaN</td>\n",
       "      <td>2011.0</td>\n",
       "      <td>2000.0</td>\n",
       "    </tr>\n",
       "  </tbody>\n",
       "</table>\n",
       "<p>12 rows × 31 columns</p>\n",
       "</div>"
      ],
      "text/plain": [
       "   Country Code Short Name     Table Name                           Long Name  \\\n",
       "0           ARG  Argentina      Argentina                  Argentine Republic   \n",
       "1           BOL    Bolivia        Bolivia      Plurinational State of Bolivia   \n",
       "2           BRA     Brazil         Brazil       Federative Republic of Brazil   \n",
       "3           CHL      Chile          Chile                   Republic of Chile   \n",
       "4           COL   Colombia       Colombia                Republic of Colombia   \n",
       "5           ECU    Ecuador        Ecuador                 Republic of Ecuador   \n",
       "6           GUY     Guyana         Guyana     Co-operative Republic of Guyana   \n",
       "7           PRY   Paraguay       Paraguay                Republic of Paraguay   \n",
       "8           PER       Peru           Peru                    Republic of Peru   \n",
       "9           SUR   Suriname       Suriname                Republic of Suriname   \n",
       "10          URY    Uruguay        Uruguay        Oriental Republic of Uruguay   \n",
       "11          VEN  Venezuela  Venezuela, RB  República Bolivariana de Venezuela   \n",
       "\n",
       "   2-alpha code              Currency Unit  \\\n",
       "0            AR             Argentine peso   \n",
       "1            BO         Bolivian Boliviano   \n",
       "2            BR             Brazilian real   \n",
       "3            CL               Chilean peso   \n",
       "4            CO             Colombian peso   \n",
       "5            EC                U.S. dollar   \n",
       "6            GY              Guyana dollar   \n",
       "7            PY         Paraguayan guarani   \n",
       "8            PE           Peruvian new sol   \n",
       "9            SR            Suriname dollar   \n",
       "10           UY             Uruguayan peso   \n",
       "11           VE  Venezuelan bolivar fuerte   \n",
       "\n",
       "                                        Special Notes  \\\n",
       "0                  The base year has changed to 2004.   \n",
       "1                                                 NaN   \n",
       "2                                                 NaN   \n",
       "3                                                 NaN   \n",
       "4                                                 NaN   \n",
       "5   National accounts have been revised from 1965 ...   \n",
       "6   In 2010, the Bureau of Statistics introduced a...   \n",
       "7   National accounts data have been revised from ...   \n",
       "8                          The new base year is 2007.   \n",
       "9                                                 NaN   \n",
       "10  In 2011, the Central Bank revised national acc...   \n",
       "11                                                NaN   \n",
       "\n",
       "                       Region  \\\n",
       "0   Latin America & Caribbean   \n",
       "1   Latin America & Caribbean   \n",
       "2   Latin America & Caribbean   \n",
       "3   Latin America & Caribbean   \n",
       "4   Latin America & Caribbean   \n",
       "5   Latin America & Caribbean   \n",
       "6   Latin America & Caribbean   \n",
       "7   Latin America & Caribbean   \n",
       "8   Latin America & Caribbean   \n",
       "9   Latin America & Caribbean   \n",
       "10  Latin America & Caribbean   \n",
       "11  Latin America & Caribbean   \n",
       "\n",
       "                                         Income Group WB-2 code  ...  \\\n",
       "0   Upper middle income; based on FY13 income clas...        AR  ...   \n",
       "1   Lower middle income; based on FY13 income clas...        BO  ...   \n",
       "2   Upper middle income; based on FY13 income clas...        BR  ...   \n",
       "3   Upper middle income; based on FY13 income clas...        CL  ...   \n",
       "4   Upper middle income; based on FY13 income clas...        CO  ...   \n",
       "5   Upper middle income; based on FY13 income clas...        EC  ...   \n",
       "6   Lower middle income; based on FY13 income clas...        GY  ...   \n",
       "7   Lower middle income; based on FY13 income clas...        PY  ...   \n",
       "8   Upper middle income; based on FY13 income clas...        PE  ...   \n",
       "9   Upper middle income; based on FY13 income clas...        SR  ...   \n",
       "10  Upper middle income; based on FY13 income clas...        UY  ...   \n",
       "11  Upper middle income; based on FY13 income clas...        VE  ...   \n",
       "\n",
       "      Government Accounting concept  \\\n",
       "0   Consolidated central government   \n",
       "1   Consolidated central government   \n",
       "2   Consolidated central government   \n",
       "3   Consolidated central government   \n",
       "4   Consolidated central government   \n",
       "5      Budgetary central government   \n",
       "6                               NaN   \n",
       "7   Consolidated central government   \n",
       "8   Consolidated central government   \n",
       "9      Budgetary central government   \n",
       "10  Consolidated central government   \n",
       "11  Consolidated central government   \n",
       "\n",
       "               IMF data dissemination standard Latest population census  \\\n",
       "0   Special Data Dissemination Standard (SDDS)                     2010   \n",
       "1     General Data Dissemination System (GDDS)                     2012   \n",
       "2   Special Data Dissemination Standard (SDDS)                     2010   \n",
       "3   Special Data Dissemination Standard (SDDS)                     2012   \n",
       "4   Special Data Dissemination Standard (SDDS)                     2006   \n",
       "5   Special Data Dissemination Standard (SDDS)                     2010   \n",
       "6     General Data Dissemination System (GDDS)                     2012   \n",
       "7     General Data Dissemination System (GDDS)                     2012   \n",
       "8   Special Data Dissemination Standard (SDDS)                     2007   \n",
       "9     General Data Dissemination System (GDDS)                     2012   \n",
       "10  Special Data Dissemination Standard (SDDS)                     2011   \n",
       "11    General Data Dissemination System (GDDS)                     2011   \n",
       "\n",
       "                              Latest household survey  \\\n",
       "0   Multiple Indicator Cluster Survey (MICS), 2011/12   \n",
       "1           Demographic and Health Survey (DHS), 2008   \n",
       "2                     World Health Survey (WHS), 2003   \n",
       "3                                                 NaN   \n",
       "4           Demographic and Health Survey (DHS), 2010   \n",
       "5              Reproductive Health Survey (RHS), 2004   \n",
       "6      Multiple Indicator Cluster Survey (MICS), 2014   \n",
       "7              Reproductive Health Survey (RHS), 2008   \n",
       "8   Continuous Demographic and Health Survey (DHS)...   \n",
       "9      Multiple Indicator Cluster Survey (MICS), 2010   \n",
       "10  Multiple Indicator Cluster Survey (MICS), 2012/13   \n",
       "11     Multiple Indicator Cluster Survey (MICS), 2000   \n",
       "\n",
       "   Source of most recent Income and expenditure data  \\\n",
       "0            Integrated household survey (IHS), 2012   \n",
       "1            Integrated household survey (IHS), 2012   \n",
       "2            Integrated household survey (IHS), 2012   \n",
       "3            Integrated household survey (IHS), 2011   \n",
       "4            Integrated household survey (IHS), 2012   \n",
       "5            Integrated household survey (IHS), 2013   \n",
       "6            Integrated household survey (IHS), 1998   \n",
       "7            Integrated household survey (IHS), 2013   \n",
       "8            Integrated household survey (IHS), 2013   \n",
       "9     Expenditure survey/budget survey (ES/BS), 1999   \n",
       "10           Integrated household survey (IHS), 2013   \n",
       "11           Integrated household survey (IHS), 2012   \n",
       "\n",
       "   Vital registration complete Latest agricultural census  \\\n",
       "0                          Yes                       2013   \n",
       "1                          NaN                       2013   \n",
       "2                          NaN                       2006   \n",
       "3                          Yes                       2007   \n",
       "4                          NaN                       2013   \n",
       "5                          NaN                    2013/15   \n",
       "6                          NaN                        NaN   \n",
       "7                          NaN                       2008   \n",
       "8                          NaN                       2012   \n",
       "9                          Yes                       2008   \n",
       "10                         Yes                       2011   \n",
       "11                         Yes                       2007   \n",
       "\n",
       "   Latest industrial data Latest trade data Latest water withdrawal data  \n",
       "0                  2002.0            2013.0                       2011.0  \n",
       "1                     NaN            2013.0                       2000.0  \n",
       "2                  2011.0            2013.0                       2010.0  \n",
       "3                     NaN            2013.0                       2006.0  \n",
       "4                  2011.0            2013.0                       2008.0  \n",
       "5                  2008.0            2013.0                       2005.0  \n",
       "6                     NaN            2013.0                       2010.0  \n",
       "7                  2002.0            2013.0                       2012.0  \n",
       "8                  2011.0            2013.0                       2008.0  \n",
       "9                  2004.0            2011.0                       2006.0  \n",
       "10                 2009.0            2013.0                       2000.0  \n",
       "11                    NaN            2011.0                       2000.0  \n",
       "\n",
       "[12 rows x 31 columns]"
      ]
     },
     "execution_count": 112,
     "metadata": {},
     "output_type": "execute_result"
    }
   ],
   "source": [
    "df_paises = ler_arquivo_csv(\n",
    "    nome_arquivo='dataset_bancomundial_paises.csv', decimal=',')\n",
    "\n",
    "filtro_paises_sul_americanos = ['ARG', 'BRA', 'BOL',  'CHL',\n",
    "                                'COL', 'ECU', 'GUY', 'PER', 'PRY', 'SUR', 'URY', 'VEN']\n",
    "\n",
    "# filtrar ocorrencias de varios termos em uma coluna\n",
    "df_paises_sul_americanos = df_paises.query(\n",
    "    \"`Country Code` in @filtro_paises_sul_americanos\")\n",
    "\n",
    "# apagar colunas do dataframe\n",
    "df_paises_sul_americanos = apagar_colunas(df_paises_sul_americanos, ['index'])\n",
    "\n",
    "df_paises_sul_americanos = df_paises_sul_americanos.reset_index(drop=True)\n",
    "\n",
    "# criando arquivo com dataframe\n",
    "gravar_arquivo_csv(nome_arquivo='dataset_paises_sul_americanos_ex2.csv',\n",
    "                   dataframe=df_paises_sul_americanos)\n",
    "\n",
    "df_paises_sul_americanos\n"
   ]
  },
  {
   "cell_type": "markdown",
   "id": "169fa0d4",
   "metadata": {},
   "source": [
    "## Atividade 3\n",
    " Crie um único gráfico de controle, considerando a média e uma amplitude de 2 vezes o desvio padrão da para a série com o GDP para todos os países da América do Sul; o propósito é avaliar a média histórica do GDP para os países mencionados, no período 1960-2013; no eixo x do gráfico constará o ano (1960-2013) e o eixo y terá a média do GDP daquele ano, considerando todos os países; o desvio padrão será calculado a partir da média histórica do GDP para todos os países da América do Sul;"
   ]
  },
  {
   "cell_type": "code",
   "execution_count": 113,
   "id": "22a4be16",
   "metadata": {},
   "outputs": [
    {
     "name": "stdout",
     "output_type": "stream",
     "text": [
      "Média Geral =  3131.7418649434762\n",
      "Desvio Padrão Geral =  294.8354550437983\n",
      "Limite Superior de Controle =  3721.4127750310727\n",
      "Limite Inferior de Controle =  2542.07095485588\n"
     ]
    },
    {
     "data": {
      "image/png": "[encoded data removed]",
      "text/plain": [
       "<Figure size 1332x756 with 1 Axes>"
      ]
     },
     "metadata": {
      "needs_background": "light"
     },
     "output_type": "display_data"
    }
   ],
   "source": [
    "# separando apenas o nome abreviado dos países\n",
    "filtro_cod_sul_americanos = df_paises_sul_americanos['Country Code']\n",
    "\n",
    "# filtrando apenas as linhas que contém o critério do filtro na coluna Country Code\n",
    "df_registros_paises_sul_americanos = df_gpd.query(\n",
    "    \"`Country Code` in @filtro_cod_sul_americanos\")\n",
    "\n",
    "# extraindo o nome dos países dos dados\n",
    "nome_paises = df_registros_paises_sul_americanos['Country Name']\n",
    "cod_paises_original = df_registros_paises_sul_americanos['Country Code']\n",
    "\n",
    "# apagando colunas para deixar apenas colunas numéricas\n",
    "df_registros_paises_sul_americanos = apagar_colunas(dataframe=df_registros_paises_sul_americanos,\n",
    "                                                    nome_colunas=[\n",
    "                                                        'Country Name', 'Country Code'])\n",
    "\n",
    "gerar_grafico_controle(\n",
    "    dataframe = df_registros_paises_sul_americanos,\n",
    "    dataframe_indices = nome_paises,\n",
    "    rotulo_eixo_x = 'Período em Anos',\n",
    "    rotulo_eixo_y = 'Valor GDP',\n",
    "    titulo_grafico = 'Gráfico de Controle GDP Per Capita da América Latina')\n"
   ]
  },
  {
   "cell_type": "markdown",
   "id": "a56c16f9",
   "metadata": {},
   "source": [
    "## Exercício 4\n",
    "Identifique os anos e os países que se encontram fora da faixa de controle;"
   ]
  },
  {
   "cell_type": "code",
   "execution_count": 114,
   "id": "3d75ff97",
   "metadata": {},
   "outputs": [
    {
     "name": "stdout",
     "output_type": "stream",
     "text": [
      "Limite Superior de Controle =  3721.4127750310727\n",
      "Limite Inferior de Controle =  2542.07095485588\n",
      "Argentina ficou acima da faixa de controle 46 vezes, sendo os anos de:\n"
     ]
    },
    {
     "data": {
      "text/plain": [
       "array(['1960', '1961', '1962', '1964', '1965', '1966', '1967', '1968',\n",
       "       '1969', '1970', '1971', '1972', '1973', '1974', '1975', '1976',\n",
       "       '1977', '1978', '1979', '1980', '1981', '1982', '1983', '1984',\n",
       "       '1985', '1986', '1987', '1988', '1989', '1990', '1991', '1992',\n",
       "       '1993', '1994', '1995', '1996', '1997', '1998', '1999', '2000',\n",
       "       '2001', '2002', '2003', '2004', '2005', '2006'], dtype=object)"
      ]
     },
     "metadata": {},
     "output_type": "display_data"
    },
    {
     "data": {
      "text/plain": [
       "'Bolivia não ficou acima da faixa de controle nenhuma vez.'"
      ]
     },
     "metadata": {},
     "output_type": "display_data"
    },
    {
     "name": "stdout",
     "output_type": "stream",
     "text": [
      "Brazil ficou acima da faixa de controle 36 vezes, sendo os anos de:\n"
     ]
    },
    {
     "data": {
      "text/plain": [
       "array(['1977', '1978', '1979', '1980', '1981', '1982', '1984', '1985',\n",
       "       '1986', '1987', '1988', '1989', '1990', '1991', '1992', '1993',\n",
       "       '1994', '1995', '1996', '1997', '1998', '1999', '2000', '2001',\n",
       "       '2002', '2003', '2004', '2005', '2006', '2007', '2008', '2009',\n",
       "       '2010', '2011', '2012', '2013'], dtype=object)"
      ]
     },
     "metadata": {},
     "output_type": "display_data"
    },
    {
     "name": "stdout",
     "output_type": "stream",
     "text": [
      "Chile ficou acima da faixa de controle 26 vezes, sendo os anos de:\n"
     ]
    },
    {
     "data": {
      "text/plain": [
       "array(['1988', '1989', '1990', '1991', '1992', '1993', '1994', '1995',\n",
       "       '1996', '1997', '1998', '1999', '2000', '2001', '2002', '2003',\n",
       "       '2004', '2005', '2006', '2007', '2008', '2009', '2010', '2011',\n",
       "       '2012', '2013'], dtype=object)"
      ]
     },
     "metadata": {},
     "output_type": "display_data"
    },
    {
     "name": "stdout",
     "output_type": "stream",
     "text": [
      "Colombia ficou acima da faixa de controle 7 vezes, sendo os anos de:\n"
     ]
    },
    {
     "data": {
      "text/plain": [
       "array(['2007', '2008', '2009', '2010', '2011', '2012', '2013'],\n",
       "      dtype=object)"
      ]
     },
     "metadata": {},
     "output_type": "display_data"
    },
    {
     "data": {
      "text/plain": [
       "'Ecuador não ficou acima da faixa de controle nenhuma vez.'"
      ]
     },
     "metadata": {},
     "output_type": "display_data"
    },
    {
     "data": {
      "text/plain": [
       "'Guyana não ficou acima da faixa de controle nenhuma vez.'"
      ]
     },
     "metadata": {},
     "output_type": "display_data"
    },
    {
     "data": {
      "text/plain": [
       "'Paraguay não ficou acima da faixa de controle nenhuma vez.'"
      ]
     },
     "metadata": {},
     "output_type": "display_data"
    },
    {
     "name": "stdout",
     "output_type": "stream",
     "text": [
      "Peru ficou acima da faixa de controle 3 vezes, sendo os anos de:\n"
     ]
    },
    {
     "data": {
      "text/plain": [
       "array(['2011', '2012', '2013'], dtype=object)"
      ]
     },
     "metadata": {},
     "output_type": "display_data"
    },
    {
     "name": "stdout",
     "output_type": "stream",
     "text": [
      "Suriname ficou acima da faixa de controle 14 vezes, sendo os anos de:\n"
     ]
    },
    {
     "data": {
      "text/plain": [
       "array(['1975', '1977', '1978', '1979', '1980', '1981', '1982', '2007',\n",
       "       '2008', '2009', '2010', '2011', '2012', '2013'], dtype=object)"
      ]
     },
     "metadata": {},
     "output_type": "display_data"
    },
    {
     "name": "stdout",
     "output_type": "stream",
     "text": [
      "Uruguay ficou acima da faixa de controle 32 vezes, sendo os anos de:\n"
     ]
    },
    {
     "data": {
      "text/plain": [
       "array(['1978', '1979', '1980', '1981', '1982', '1987', '1988', '1989',\n",
       "       '1990', '1991', '1992', '1993', '1994', '1995', '1996', '1997',\n",
       "       '1998', '1999', '2000', '2001', '2002', '2003', '2004', '2005',\n",
       "       '2006', '2007', '2008', '2009', '2010', '2011', '2012', '2013'],\n",
       "      dtype=object)"
      ]
     },
     "metadata": {},
     "output_type": "display_data"
    },
    {
     "name": "stdout",
     "output_type": "stream",
     "text": [
      "Venezuela, RB ficou acima da faixa de controle 54 vezes, sendo os anos de:\n"
     ]
    },
    {
     "data": {
      "text/plain": [
       "array(['1960', '1961', '1962', '1963', '1964', '1965', '1966', '1967',\n",
       "       '1968', '1969', '1970', '1971', '1972', '1973', '1974', '1975',\n",
       "       '1976', '1977', '1978', '1979', '1980', '1981', '1982', '1983',\n",
       "       '1984', '1985', '1986', '1987', '1988', '1989', '1990', '1991',\n",
       "       '1992', '1993', '1994', '1995', '1996', '1997', '1998', '1999',\n",
       "       '2000', '2001', '2002', '2003', '2004', '2005', '2006', '2007',\n",
       "       '2008', '2009', '2010', '2011', '2012', '2013'], dtype=object)"
      ]
     },
     "metadata": {},
     "output_type": "display_data"
    },
    {
     "name": "stdout",
     "output_type": "stream",
     "text": [
      "-----------------------------------------------------\n",
      "\n",
      "Limite Inferior Agora\n",
      "\n",
      "-----------------------------------------------------\n",
      "Argentina ficou abaixo da faixa de controle 1 vezes, sendo os anos de:\n"
     ]
    },
    {
     "data": {
      "text/plain": [
       "array(['1963'], dtype=object)"
      ]
     },
     "metadata": {},
     "output_type": "display_data"
    },
    {
     "name": "stdout",
     "output_type": "stream",
     "text": [
      "Bolivia ficou abaixo da faixa de controle 54 vezes, sendo os anos de:\n"
     ]
    },
    {
     "data": {
      "text/plain": [
       "array(['1960', '1961', '1962', '1963', '1964', '1965', '1966', '1967',\n",
       "       '1968', '1969', '1970', '1971', '1972', '1973', '1974', '1975',\n",
       "       '1976', '1977', '1978', '1979', '1980', '1981', '1982', '1983',\n",
       "       '1984', '1985', '1986', '1987', '1988', '1989', '1990', '1991',\n",
       "       '1992', '1993', '1994', '1995', '1996', '1997', '1998', '1999',\n",
       "       '2000', '2001', '2002', '2003', '2004', '2005', '2006', '2007',\n",
       "       '2008', '2009', '2010', '2011', '2012', '2013'], dtype=object)"
      ]
     },
     "metadata": {},
     "output_type": "display_data"
    },
    {
     "name": "stdout",
     "output_type": "stream",
     "text": [
      "Brazil ficou abaixo da faixa de controle 18 vezes, sendo os anos de:\n"
     ]
    },
    {
     "data": {
      "text/plain": [
       "array(['1960', '1961', '1962', '1963', '1964', '1965', '1966', '1967',\n",
       "       '1968', '1969', '1970', '1971', '1972', '1973', '1974', '1975',\n",
       "       '1976', '1983'], dtype=object)"
      ]
     },
     "metadata": {},
     "output_type": "display_data"
    },
    {
     "name": "stdout",
     "output_type": "stream",
     "text": [
      "Chile ficou abaixo da faixa de controle 28 vezes, sendo os anos de:\n"
     ]
    },
    {
     "data": {
      "text/plain": [
       "array(['1960', '1961', '1962', '1963', '1964', '1965', '1966', '1967',\n",
       "       '1968', '1969', '1970', '1971', '1972', '1973', '1974', '1975',\n",
       "       '1976', '1977', '1978', '1979', '1980', '1981', '1982', '1983',\n",
       "       '1984', '1985', '1986', '1987'], dtype=object)"
      ]
     },
     "metadata": {},
     "output_type": "display_data"
    },
    {
     "name": "stdout",
     "output_type": "stream",
     "text": [
      "Colombia ficou abaixo da faixa de controle 47 vezes, sendo os anos de:\n"
     ]
    },
    {
     "data": {
      "text/plain": [
       "array(['1960', '1961', '1962', '1963', '1964', '1965', '1966', '1967',\n",
       "       '1968', '1969', '1970', '1971', '1972', '1973', '1974', '1975',\n",
       "       '1976', '1977', '1978', '1979', '1980', '1981', '1982', '1983',\n",
       "       '1984', '1985', '1986', '1987', '1988', '1989', '1990', '1991',\n",
       "       '1992', '1993', '1994', '1995', '1996', '1997', '1998', '1999',\n",
       "       '2000', '2001', '2002', '2003', '2004', '2005', '2006'],\n",
       "      dtype=object)"
      ]
     },
     "metadata": {},
     "output_type": "display_data"
    },
    {
     "name": "stdout",
     "output_type": "stream",
     "text": [
      "Ecuador ficou abaixo da faixa de controle 54 vezes, sendo os anos de:\n"
     ]
    },
    {
     "data": {
      "text/plain": [
       "array(['1960', '1961', '1962', '1963', '1964', '1965', '1966', '1967',\n",
       "       '1968', '1969', '1970', '1971', '1972', '1973', '1974', '1975',\n",
       "       '1976', '1977', '1978', '1979', '1980', '1981', '1982', '1983',\n",
       "       '1984', '1985', '1986', '1987', '1988', '1989', '1990', '1991',\n",
       "       '1992', '1993', '1994', '1995', '1996', '1997', '1998', '1999',\n",
       "       '2000', '2001', '2002', '2003', '2004', '2005', '2006', '2007',\n",
       "       '2008', '2009', '2010', '2011', '2012', '2013'], dtype=object)"
      ]
     },
     "metadata": {},
     "output_type": "display_data"
    },
    {
     "name": "stdout",
     "output_type": "stream",
     "text": [
      "Guyana ficou abaixo da faixa de controle 54 vezes, sendo os anos de:\n"
     ]
    },
    {
     "data": {
      "text/plain": [
       "array(['1960', '1961', '1962', '1963', '1964', '1965', '1966', '1967',\n",
       "       '1968', '1969', '1970', '1971', '1972', '1973', '1974', '1975',\n",
       "       '1976', '1977', '1978', '1979', '1980', '1981', '1982', '1983',\n",
       "       '1984', '1985', '1986', '1987', '1988', '1989', '1990', '1991',\n",
       "       '1992', '1993', '1994', '1995', '1996', '1997', '1998', '1999',\n",
       "       '2000', '2001', '2002', '2003', '2004', '2005', '2006', '2007',\n",
       "       '2008', '2009', '2010', '2011', '2012', '2013'], dtype=object)"
      ]
     },
     "metadata": {},
     "output_type": "display_data"
    },
    {
     "name": "stdout",
     "output_type": "stream",
     "text": [
      "Paraguay ficou abaixo da faixa de controle 54 vezes, sendo os anos de:\n"
     ]
    },
    {
     "data": {
      "text/plain": [
       "array(['1960', '1961', '1962', '1963', '1964', '1965', '1966', '1967',\n",
       "       '1968', '1969', '1970', '1971', '1972', '1973', '1974', '1975',\n",
       "       '1976', '1977', '1978', '1979', '1980', '1981', '1982', '1983',\n",
       "       '1984', '1985', '1986', '1987', '1988', '1989', '1990', '1991',\n",
       "       '1992', '1993', '1994', '1995', '1996', '1997', '1998', '1999',\n",
       "       '2000', '2001', '2002', '2003', '2004', '2005', '2006', '2007',\n",
       "       '2008', '2009', '2010', '2011', '2012', '2013'], dtype=object)"
      ]
     },
     "metadata": {},
     "output_type": "display_data"
    },
    {
     "name": "stdout",
     "output_type": "stream",
     "text": [
      "Peru ficou abaixo da faixa de controle 51 vezes, sendo os anos de:\n"
     ]
    },
    {
     "data": {
      "text/plain": [
       "array(['1960', '1961', '1962', '1963', '1964', '1965', '1966', '1967',\n",
       "       '1968', '1969', '1970', '1971', '1972', '1973', '1974', '1975',\n",
       "       '1976', '1977', '1978', '1979', '1980', '1981', '1982', '1983',\n",
       "       '1984', '1985', '1986', '1987', '1988', '1989', '1990', '1991',\n",
       "       '1992', '1993', '1994', '1995', '1996', '1997', '1998', '1999',\n",
       "       '2000', '2001', '2002', '2003', '2004', '2005', '2006', '2007',\n",
       "       '2008', '2009', '2010'], dtype=object)"
      ]
     },
     "metadata": {},
     "output_type": "display_data"
    },
    {
     "name": "stdout",
     "output_type": "stream",
     "text": [
      "Suriname ficou abaixo da faixa de controle 25 vezes, sendo os anos de:\n"
     ]
    },
    {
     "data": {
      "text/plain": [
       "array(['1976', '1983', '1984', '1985', '1986', '1987', '1988', '1989',\n",
       "       '1990', '1991', '1992', '1993', '1994', '1995', '1996', '1997',\n",
       "       '1998', '1999', '2000', '2001', '2002', '2003', '2004', '2005',\n",
       "       '2006'], dtype=object)"
      ]
     },
     "metadata": {},
     "output_type": "display_data"
    },
    {
     "name": "stdout",
     "output_type": "stream",
     "text": [
      "Uruguay ficou abaixo da faixa de controle 22 vezes, sendo os anos de:\n"
     ]
    },
    {
     "data": {
      "text/plain": [
       "array(['1960', '1961', '1962', '1963', '1964', '1965', '1966', '1967',\n",
       "       '1968', '1969', '1970', '1971', '1972', '1973', '1974', '1975',\n",
       "       '1976', '1977', '1983', '1984', '1985', '1986'], dtype=object)"
      ]
     },
     "metadata": {},
     "output_type": "display_data"
    },
    {
     "data": {
      "text/plain": [
       "'Venezuela, RB não ficou abaixo da faixa de controle nenhuma vez.'"
      ]
     },
     "metadata": {},
     "output_type": "display_data"
    }
   ],
   "source": [
    "\n",
    "# médias\n",
    "medias = df_registros_paises_sul_americanos.mean(\n",
    "    numeric_only=True, skipna=True, axis=0)\n",
    "media_geral = medias.mean()\n",
    "\n",
    "# desvio padrão anuais\n",
    "desvios_padrao = df_registros_paises_sul_americanos.std(\n",
    "    numeric_only=True, skipna=True, axis=0)\n",
    "desvio_padrao_geral = desvios_padrao.std()\n",
    "\n",
    "# limite superior de controle\n",
    "limite_superior = obter_limite_controle(media_dataframe=media_geral,\n",
    "                                        desvio_padrao_dataframe=desvio_padrao_geral * 2, limite_superior=True)\n",
    "\n",
    "# limite inferior de controle\n",
    "limite_inferior = obter_limite_controle(media_dataframe=media_geral,\n",
    "                                        desvio_padrao_dataframe=desvio_padrao_geral * 2, limite_superior=False)\n",
    "\n",
    "# separando quem saiu da faixa de controle superior e inferior\n",
    "\n",
    "\n",
    "fora_faixa_controle_superior = obter_elementos_saem_faixa_controle(\n",
    "    dataframe=df_registros_paises_sul_americanos,\n",
    "    limite_superior=True,\n",
    "    valor_limite=limite_superior)\n",
    "\n",
    "fora_faixa_controle_inferior = obter_elementos_saem_faixa_controle(\n",
    "    dataframe=df_registros_paises_sul_americanos,\n",
    "    limite_superior=False,\n",
    "    valor_limite=limite_inferior)\n",
    "\n",
    "exibir_saida_faixa_controle(dataframe=fora_faixa_controle_superior,\n",
    "                            dataframe_indices=nome_paises, limite_superior=True)\n",
    "\n",
    "print(\"-----------------------------------------------------\")\n",
    "print(\"\\nLimite Inferior Agora\\n\")\n",
    "print(\"-----------------------------------------------------\")\n",
    "\n",
    "\n",
    "exibir_saida_faixa_controle(dataframe=fora_faixa_controle_superior,\n",
    "                            dataframe_indices=nome_paises, limite_superior=False)\n"
   ]
  },
  {
   "cell_type": "markdown",
   "id": "bf62f525",
   "metadata": {},
   "source": [
    "## Exercício 5\n",
    "\n",
    "Considerando os países \"Brasil\", \"Uruguai\", \"Argentina\" e \"Paraguai\", assim denomidados de países do ConeSul, crie um dataset que envolva apenas o indicador GDP e persista em um arquivo."
   ]
  },
  {
   "cell_type": "code",
   "execution_count": 115,
   "id": "3137336a",
   "metadata": {},
   "outputs": [
    {
     "data": {
      "text/html": [
       "<div>\n",
       "<style scoped>\n",
       "    .dataframe tbody tr th:only-of-type {\n",
       "        vertical-align: middle;\n",
       "    }\n",
       "\n",
       "    .dataframe tbody tr th {\n",
       "        vertical-align: top;\n",
       "    }\n",
       "\n",
       "    .dataframe thead th {\n",
       "        text-align: right;\n",
       "    }\n",
       "</style>\n",
       "<table border=\"1\" class=\"dataframe\">\n",
       "  <thead>\n",
       "    <tr style=\"text-align: right;\">\n",
       "      <th></th>\n",
       "      <th>index</th>\n",
       "      <th>Country Code</th>\n",
       "      <th>Short Name</th>\n",
       "      <th>Table Name</th>\n",
       "      <th>Long Name</th>\n",
       "      <th>2-alpha code</th>\n",
       "      <th>Currency Unit</th>\n",
       "      <th>Special Notes</th>\n",
       "      <th>Region</th>\n",
       "      <th>Income Group</th>\n",
       "      <th>...</th>\n",
       "      <th>Government Accounting concept</th>\n",
       "      <th>IMF data dissemination standard</th>\n",
       "      <th>Latest population census</th>\n",
       "      <th>Latest household survey</th>\n",
       "      <th>Source of most recent Income and expenditure data</th>\n",
       "      <th>Vital registration complete</th>\n",
       "      <th>Latest agricultural census</th>\n",
       "      <th>Latest industrial data</th>\n",
       "      <th>Latest trade data</th>\n",
       "      <th>Latest water withdrawal data</th>\n",
       "    </tr>\n",
       "  </thead>\n",
       "  <tbody>\n",
       "    <tr>\n",
       "      <th>6</th>\n",
       "      <td>6</td>\n",
       "      <td>ARG</td>\n",
       "      <td>Argentina</td>\n",
       "      <td>Argentina</td>\n",
       "      <td>Argentine Republic</td>\n",
       "      <td>AR</td>\n",
       "      <td>Argentine peso</td>\n",
       "      <td>The base year has changed to 2004.</td>\n",
       "      <td>Latin America &amp; Caribbean</td>\n",
       "      <td>Upper middle income; based on FY13 income clas...</td>\n",
       "      <td>...</td>\n",
       "      <td>Consolidated central government</td>\n",
       "      <td>Special Data Dissemination Standard (SDDS)</td>\n",
       "      <td>2010</td>\n",
       "      <td>Multiple Indicator Cluster Survey (MICS), 2011/12</td>\n",
       "      <td>Integrated household survey (IHS), 2012</td>\n",
       "      <td>Yes</td>\n",
       "      <td>2013</td>\n",
       "      <td>2002.0</td>\n",
       "      <td>2013.0</td>\n",
       "      <td>2011.0</td>\n",
       "    </tr>\n",
       "    <tr>\n",
       "      <th>24</th>\n",
       "      <td>24</td>\n",
       "      <td>BRA</td>\n",
       "      <td>Brazil</td>\n",
       "      <td>Brazil</td>\n",
       "      <td>Federative Republic of Brazil</td>\n",
       "      <td>BR</td>\n",
       "      <td>Brazilian real</td>\n",
       "      <td>NaN</td>\n",
       "      <td>Latin America &amp; Caribbean</td>\n",
       "      <td>Upper middle income; based on FY13 income clas...</td>\n",
       "      <td>...</td>\n",
       "      <td>Consolidated central government</td>\n",
       "      <td>Special Data Dissemination Standard (SDDS)</td>\n",
       "      <td>2010</td>\n",
       "      <td>World Health Survey (WHS), 2003</td>\n",
       "      <td>Integrated household survey (IHS), 2012</td>\n",
       "      <td>NaN</td>\n",
       "      <td>2006</td>\n",
       "      <td>2011.0</td>\n",
       "      <td>2013.0</td>\n",
       "      <td>2010.0</td>\n",
       "    </tr>\n",
       "    <tr>\n",
       "      <th>152</th>\n",
       "      <td>152</td>\n",
       "      <td>PRY</td>\n",
       "      <td>Paraguay</td>\n",
       "      <td>Paraguay</td>\n",
       "      <td>Republic of Paraguay</td>\n",
       "      <td>PY</td>\n",
       "      <td>Paraguayan guarani</td>\n",
       "      <td>National accounts data have been revised from ...</td>\n",
       "      <td>Latin America &amp; Caribbean</td>\n",
       "      <td>Lower middle income; based on FY13 income clas...</td>\n",
       "      <td>...</td>\n",
       "      <td>Consolidated central government</td>\n",
       "      <td>General Data Dissemination System (GDDS)</td>\n",
       "      <td>2012</td>\n",
       "      <td>Reproductive Health Survey (RHS), 2008</td>\n",
       "      <td>Integrated household survey (IHS), 2013</td>\n",
       "      <td>NaN</td>\n",
       "      <td>2008</td>\n",
       "      <td>2002.0</td>\n",
       "      <td>2013.0</td>\n",
       "      <td>2012.0</td>\n",
       "    </tr>\n",
       "    <tr>\n",
       "      <th>207</th>\n",
       "      <td>207</td>\n",
       "      <td>URY</td>\n",
       "      <td>Uruguay</td>\n",
       "      <td>Uruguay</td>\n",
       "      <td>Oriental Republic of Uruguay</td>\n",
       "      <td>UY</td>\n",
       "      <td>Uruguayan peso</td>\n",
       "      <td>In 2011, the Central Bank revised national acc...</td>\n",
       "      <td>Latin America &amp; Caribbean</td>\n",
       "      <td>Upper middle income; based on FY13 income clas...</td>\n",
       "      <td>...</td>\n",
       "      <td>Consolidated central government</td>\n",
       "      <td>Special Data Dissemination Standard (SDDS)</td>\n",
       "      <td>2011</td>\n",
       "      <td>Multiple Indicator Cluster Survey (MICS), 2012/13</td>\n",
       "      <td>Integrated household survey (IHS), 2013</td>\n",
       "      <td>Yes</td>\n",
       "      <td>2011</td>\n",
       "      <td>2009.0</td>\n",
       "      <td>2013.0</td>\n",
       "      <td>2000.0</td>\n",
       "    </tr>\n",
       "  </tbody>\n",
       "</table>\n",
       "<p>4 rows × 32 columns</p>\n",
       "</div>"
      ],
      "text/plain": [
       "     index Country Code Short Name Table Name                      Long Name  \\\n",
       "6        6          ARG  Argentina  Argentina             Argentine Republic   \n",
       "24      24          BRA     Brazil     Brazil  Federative Republic of Brazil   \n",
       "152    152          PRY   Paraguay   Paraguay           Republic of Paraguay   \n",
       "207    207          URY    Uruguay    Uruguay   Oriental Republic of Uruguay   \n",
       "\n",
       "    2-alpha code       Currency Unit  \\\n",
       "6             AR      Argentine peso   \n",
       "24            BR      Brazilian real   \n",
       "152           PY  Paraguayan guarani   \n",
       "207           UY      Uruguayan peso   \n",
       "\n",
       "                                         Special Notes  \\\n",
       "6                   The base year has changed to 2004.   \n",
       "24                                                 NaN   \n",
       "152  National accounts data have been revised from ...   \n",
       "207  In 2011, the Central Bank revised national acc...   \n",
       "\n",
       "                        Region  \\\n",
       "6    Latin America & Caribbean   \n",
       "24   Latin America & Caribbean   \n",
       "152  Latin America & Caribbean   \n",
       "207  Latin America & Caribbean   \n",
       "\n",
       "                                          Income Group  ...  \\\n",
       "6    Upper middle income; based on FY13 income clas...  ...   \n",
       "24   Upper middle income; based on FY13 income clas...  ...   \n",
       "152  Lower middle income; based on FY13 income clas...  ...   \n",
       "207  Upper middle income; based on FY13 income clas...  ...   \n",
       "\n",
       "       Government Accounting concept  \\\n",
       "6    Consolidated central government   \n",
       "24   Consolidated central government   \n",
       "152  Consolidated central government   \n",
       "207  Consolidated central government   \n",
       "\n",
       "                IMF data dissemination standard Latest population census  \\\n",
       "6    Special Data Dissemination Standard (SDDS)                     2010   \n",
       "24   Special Data Dissemination Standard (SDDS)                     2010   \n",
       "152    General Data Dissemination System (GDDS)                     2012   \n",
       "207  Special Data Dissemination Standard (SDDS)                     2011   \n",
       "\n",
       "                               Latest household survey  \\\n",
       "6    Multiple Indicator Cluster Survey (MICS), 2011/12   \n",
       "24                     World Health Survey (WHS), 2003   \n",
       "152             Reproductive Health Survey (RHS), 2008   \n",
       "207  Multiple Indicator Cluster Survey (MICS), 2012/13   \n",
       "\n",
       "    Source of most recent Income and expenditure data  \\\n",
       "6             Integrated household survey (IHS), 2012   \n",
       "24            Integrated household survey (IHS), 2012   \n",
       "152           Integrated household survey (IHS), 2013   \n",
       "207           Integrated household survey (IHS), 2013   \n",
       "\n",
       "    Vital registration complete Latest agricultural census  \\\n",
       "6                           Yes                       2013   \n",
       "24                          NaN                       2006   \n",
       "152                         NaN                       2008   \n",
       "207                         Yes                       2011   \n",
       "\n",
       "    Latest industrial data Latest trade data Latest water withdrawal data  \n",
       "6                   2002.0            2013.0                       2011.0  \n",
       "24                  2011.0            2013.0                       2010.0  \n",
       "152                 2002.0            2013.0                       2012.0  \n",
       "207                 2009.0            2013.0                       2000.0  \n",
       "\n",
       "[4 rows x 32 columns]"
      ]
     },
     "metadata": {},
     "output_type": "display_data"
    },
    {
     "data": {
      "text/html": [
       "<div>\n",
       "<style scoped>\n",
       "    .dataframe tbody tr th:only-of-type {\n",
       "        vertical-align: middle;\n",
       "    }\n",
       "\n",
       "    .dataframe tbody tr th {\n",
       "        vertical-align: top;\n",
       "    }\n",
       "\n",
       "    .dataframe thead th {\n",
       "        text-align: right;\n",
       "    }\n",
       "</style>\n",
       "<table border=\"1\" class=\"dataframe\">\n",
       "  <thead>\n",
       "    <tr style=\"text-align: right;\">\n",
       "      <th></th>\n",
       "      <th>index</th>\n",
       "      <th>Country Code</th>\n",
       "      <th>Short Name</th>\n",
       "      <th>Table Name</th>\n",
       "      <th>Long Name</th>\n",
       "      <th>2-alpha code</th>\n",
       "      <th>Currency Unit</th>\n",
       "      <th>Special Notes</th>\n",
       "      <th>Region</th>\n",
       "      <th>Income Group</th>\n",
       "      <th>...</th>\n",
       "      <th>Government Accounting concept</th>\n",
       "      <th>IMF data dissemination standard</th>\n",
       "      <th>Latest population census</th>\n",
       "      <th>Latest household survey</th>\n",
       "      <th>Source of most recent Income and expenditure data</th>\n",
       "      <th>Vital registration complete</th>\n",
       "      <th>Latest agricultural census</th>\n",
       "      <th>Latest industrial data</th>\n",
       "      <th>Latest trade data</th>\n",
       "      <th>Latest water withdrawal data</th>\n",
       "    </tr>\n",
       "  </thead>\n",
       "  <tbody>\n",
       "    <tr>\n",
       "      <th>6</th>\n",
       "      <td>6</td>\n",
       "      <td>ARG</td>\n",
       "      <td>Argentina</td>\n",
       "      <td>Argentina</td>\n",
       "      <td>Argentine Republic</td>\n",
       "      <td>AR</td>\n",
       "      <td>Argentine peso</td>\n",
       "      <td>The base year has changed to 2004.</td>\n",
       "      <td>Latin America &amp; Caribbean</td>\n",
       "      <td>Upper middle income; based on FY13 income clas...</td>\n",
       "      <td>...</td>\n",
       "      <td>Consolidated central government</td>\n",
       "      <td>Special Data Dissemination Standard (SDDS)</td>\n",
       "      <td>2010</td>\n",
       "      <td>Multiple Indicator Cluster Survey (MICS), 2011/12</td>\n",
       "      <td>Integrated household survey (IHS), 2012</td>\n",
       "      <td>Yes</td>\n",
       "      <td>2013</td>\n",
       "      <td>2002.0</td>\n",
       "      <td>2013.0</td>\n",
       "      <td>2011.0</td>\n",
       "    </tr>\n",
       "    <tr>\n",
       "      <th>24</th>\n",
       "      <td>24</td>\n",
       "      <td>BRA</td>\n",
       "      <td>Brazil</td>\n",
       "      <td>Brazil</td>\n",
       "      <td>Federative Republic of Brazil</td>\n",
       "      <td>BR</td>\n",
       "      <td>Brazilian real</td>\n",
       "      <td>NaN</td>\n",
       "      <td>Latin America &amp; Caribbean</td>\n",
       "      <td>Upper middle income; based on FY13 income clas...</td>\n",
       "      <td>...</td>\n",
       "      <td>Consolidated central government</td>\n",
       "      <td>Special Data Dissemination Standard (SDDS)</td>\n",
       "      <td>2010</td>\n",
       "      <td>World Health Survey (WHS), 2003</td>\n",
       "      <td>Integrated household survey (IHS), 2012</td>\n",
       "      <td>NaN</td>\n",
       "      <td>2006</td>\n",
       "      <td>2011.0</td>\n",
       "      <td>2013.0</td>\n",
       "      <td>2010.0</td>\n",
       "    </tr>\n",
       "    <tr>\n",
       "      <th>152</th>\n",
       "      <td>152</td>\n",
       "      <td>PRY</td>\n",
       "      <td>Paraguay</td>\n",
       "      <td>Paraguay</td>\n",
       "      <td>Republic of Paraguay</td>\n",
       "      <td>PY</td>\n",
       "      <td>Paraguayan guarani</td>\n",
       "      <td>National accounts data have been revised from ...</td>\n",
       "      <td>Latin America &amp; Caribbean</td>\n",
       "      <td>Lower middle income; based on FY13 income clas...</td>\n",
       "      <td>...</td>\n",
       "      <td>Consolidated central government</td>\n",
       "      <td>General Data Dissemination System (GDDS)</td>\n",
       "      <td>2012</td>\n",
       "      <td>Reproductive Health Survey (RHS), 2008</td>\n",
       "      <td>Integrated household survey (IHS), 2013</td>\n",
       "      <td>NaN</td>\n",
       "      <td>2008</td>\n",
       "      <td>2002.0</td>\n",
       "      <td>2013.0</td>\n",
       "      <td>2012.0</td>\n",
       "    </tr>\n",
       "    <tr>\n",
       "      <th>207</th>\n",
       "      <td>207</td>\n",
       "      <td>URY</td>\n",
       "      <td>Uruguay</td>\n",
       "      <td>Uruguay</td>\n",
       "      <td>Oriental Republic of Uruguay</td>\n",
       "      <td>UY</td>\n",
       "      <td>Uruguayan peso</td>\n",
       "      <td>In 2011, the Central Bank revised national acc...</td>\n",
       "      <td>Latin America &amp; Caribbean</td>\n",
       "      <td>Upper middle income; based on FY13 income clas...</td>\n",
       "      <td>...</td>\n",
       "      <td>Consolidated central government</td>\n",
       "      <td>Special Data Dissemination Standard (SDDS)</td>\n",
       "      <td>2011</td>\n",
       "      <td>Multiple Indicator Cluster Survey (MICS), 2012/13</td>\n",
       "      <td>Integrated household survey (IHS), 2013</td>\n",
       "      <td>Yes</td>\n",
       "      <td>2011</td>\n",
       "      <td>2009.0</td>\n",
       "      <td>2013.0</td>\n",
       "      <td>2000.0</td>\n",
       "    </tr>\n",
       "  </tbody>\n",
       "</table>\n",
       "<p>4 rows × 32 columns</p>\n",
       "</div>"
      ],
      "text/plain": [
       "     index Country Code Short Name Table Name                      Long Name  \\\n",
       "6        6          ARG  Argentina  Argentina             Argentine Republic   \n",
       "24      24          BRA     Brazil     Brazil  Federative Republic of Brazil   \n",
       "152    152          PRY   Paraguay   Paraguay           Republic of Paraguay   \n",
       "207    207          URY    Uruguay    Uruguay   Oriental Republic of Uruguay   \n",
       "\n",
       "    2-alpha code       Currency Unit  \\\n",
       "6             AR      Argentine peso   \n",
       "24            BR      Brazilian real   \n",
       "152           PY  Paraguayan guarani   \n",
       "207           UY      Uruguayan peso   \n",
       "\n",
       "                                         Special Notes  \\\n",
       "6                   The base year has changed to 2004.   \n",
       "24                                                 NaN   \n",
       "152  National accounts data have been revised from ...   \n",
       "207  In 2011, the Central Bank revised national acc...   \n",
       "\n",
       "                        Region  \\\n",
       "6    Latin America & Caribbean   \n",
       "24   Latin America & Caribbean   \n",
       "152  Latin America & Caribbean   \n",
       "207  Latin America & Caribbean   \n",
       "\n",
       "                                          Income Group  ...  \\\n",
       "6    Upper middle income; based on FY13 income clas...  ...   \n",
       "24   Upper middle income; based on FY13 income clas...  ...   \n",
       "152  Lower middle income; based on FY13 income clas...  ...   \n",
       "207  Upper middle income; based on FY13 income clas...  ...   \n",
       "\n",
       "       Government Accounting concept  \\\n",
       "6    Consolidated central government   \n",
       "24   Consolidated central government   \n",
       "152  Consolidated central government   \n",
       "207  Consolidated central government   \n",
       "\n",
       "                IMF data dissemination standard Latest population census  \\\n",
       "6    Special Data Dissemination Standard (SDDS)                     2010   \n",
       "24   Special Data Dissemination Standard (SDDS)                     2010   \n",
       "152    General Data Dissemination System (GDDS)                     2012   \n",
       "207  Special Data Dissemination Standard (SDDS)                     2011   \n",
       "\n",
       "                               Latest household survey  \\\n",
       "6    Multiple Indicator Cluster Survey (MICS), 2011/12   \n",
       "24                     World Health Survey (WHS), 2003   \n",
       "152             Reproductive Health Survey (RHS), 2008   \n",
       "207  Multiple Indicator Cluster Survey (MICS), 2012/13   \n",
       "\n",
       "    Source of most recent Income and expenditure data  \\\n",
       "6             Integrated household survey (IHS), 2012   \n",
       "24            Integrated household survey (IHS), 2012   \n",
       "152           Integrated household survey (IHS), 2013   \n",
       "207           Integrated household survey (IHS), 2013   \n",
       "\n",
       "    Vital registration complete Latest agricultural census  \\\n",
       "6                           Yes                       2013   \n",
       "24                          NaN                       2006   \n",
       "152                         NaN                       2008   \n",
       "207                         Yes                       2011   \n",
       "\n",
       "    Latest industrial data Latest trade data Latest water withdrawal data  \n",
       "6                   2002.0            2013.0                       2011.0  \n",
       "24                  2011.0            2013.0                       2010.0  \n",
       "152                 2002.0            2013.0                       2012.0  \n",
       "207                 2009.0            2013.0                       2000.0  \n",
       "\n",
       "[4 rows x 32 columns]"
      ]
     },
     "execution_count": 115,
     "metadata": {},
     "output_type": "execute_result"
    }
   ],
   "source": [
    "filtro_paises_conesul = ['ARG', 'BRA', 'PRY', 'URY']\n",
    "\n",
    "# filtrar ocorrencias de varios termos em uma coluna\n",
    "df_paises_conesul = df_paises.query(\"`Country Code` in @filtro_paises_conesul\")\n",
    "\n",
    "display(df_paises_conesul)\n",
    "\n",
    "# criando arquivo com dataframe\n",
    "gravar_arquivo_csv(dataframe=df_paises_conesul,\n",
    "                   nome_arquivo='dataset_paises_conesul_ex5.csv')\n",
    "\n",
    "df_paises_conesul.head(4)\n"
   ]
  },
  {
   "cell_type": "markdown",
   "id": "787cb24f",
   "metadata": {},
   "source": [
    "## Exercício 6\n",
    "\n",
    "Crie um gráfico de controle, considerando a média e uma amplitude de 2 vezes o desvio padrão da série com o GDP para todos os países do ConeSul, com a mesma abordagem descrita no item 3;"
   ]
  },
  {
   "cell_type": "code",
   "execution_count": 116,
   "id": "52a684d4",
   "metadata": {},
   "outputs": [
    {
     "name": "stdout",
     "output_type": "stream",
     "text": [
      "Média Geral =  3530.0188826652775\n",
      "Desvio Padrão Geral =  405.7032948673396\n",
      "Limite Superior de Controle =  4341.425472399957\n",
      "Limite Inferior de Controle =  2718.6122929305984\n"
     ]
    },
    {
     "data": {
      "image/png": "[encoded data removed]",
      "text/plain": [
       "<Figure size 1332x756 with 1 Axes>"
      ]
     },
     "metadata": {
      "needs_background": "light"
     },
     "output_type": "display_data"
    }
   ],
   "source": [
    "# separando apenas o nome abreviado dos países\n",
    "filtro_cod_conesul = df_paises_conesul['Country Code']\n",
    "\n",
    "# filtrando apenas as linhas que contém o critério do filtro na coluna Country Code\n",
    "df_registros_paises_conesul = df_gpd.query(\n",
    "    \"`Country Code` in @filtro_cod_conesul\")\n",
    "\n",
    "# extraindo o nome dos países dos dados\n",
    "nome_paises = df_registros_paises_conesul['Country Name']\n",
    "cod_paises_original = df_registros_paises_conesul['Country Code']\n",
    "\n",
    "# apagando colunas para deixar apenas colunas numéricas\n",
    "df_registros_paises_conesul = apagar_colunas(dataframe=df_registros_paises_conesul,\n",
    "                                                    nome_colunas=[\n",
    "                                                        'Country Name', 'Country Code'])\n",
    "\n",
    "gerar_grafico_controle(\n",
    "    dataframe = df_registros_paises_conesul,\n",
    "    dataframe_indices = nome_paises,\n",
    "    rotulo_eixo_x = 'Período em Anos',\n",
    "    rotulo_eixo_y = 'Valor GDP',\n",
    "    titulo_grafico = 'Gráfico de Controle GDP Per Capita da América Latina')\n",
    "\n"
   ]
  },
  {
   "cell_type": "markdown",
   "id": "9ffbe58e",
   "metadata": {},
   "source": [
    "## Exercício 7\n",
    "Identifique os anos e os países que se encontram foram da faixa de controle"
   ]
  },
  {
   "cell_type": "code",
   "execution_count": 117,
   "id": "7b603859",
   "metadata": {},
   "outputs": [
    {
     "name": "stdout",
     "output_type": "stream",
     "text": [
      "Limite Superior de Controle =  4341.425472399957\n",
      "Limite Inferior de Controle =  2718.6122929305984\n",
      "Argentina ficou acima da faixa de controle 36 vezes, sendo os anos de:\n"
     ]
    },
    {
     "data": {
      "text/plain": [
       "array(['1969', '1970', '1971', '1972', '1973', '1974', '1975', '1976',\n",
       "       '1977', '1978', '1979', '1980', '1981', '1982', '1983', '1984',\n",
       "       '1985', '1986', '1987', '1988', '1991', '1992', '1993', '1994',\n",
       "       '1995', '1996', '1997', '1998', '1999', '2000', '2001', '2002',\n",
       "       '2003', '2004', '2005', '2006'], dtype=object)"
      ]
     },
     "metadata": {},
     "output_type": "display_data"
    },
    {
     "name": "stdout",
     "output_type": "stream",
     "text": [
      "Brazil ficou acima da faixa de controle 15 vezes, sendo os anos de:\n"
     ]
    },
    {
     "data": {
      "text/plain": [
       "array(['1997', '2000', '2001', '2002', '2003', '2004', '2005', '2006',\n",
       "       '2007', '2008', '2009', '2010', '2011', '2012', '2013'],\n",
       "      dtype=object)"
      ]
     },
     "metadata": {},
     "output_type": "display_data"
    },
    {
     "data": {
      "text/plain": [
       "'Paraguay não ficou acima da faixa de controle nenhuma vez.'"
      ]
     },
     "metadata": {},
     "output_type": "display_data"
    },
    {
     "name": "stdout",
     "output_type": "stream",
     "text": [
      "Uruguay ficou acima da faixa de controle 22 vezes, sendo os anos de:\n"
     ]
    },
    {
     "data": {
      "text/plain": [
       "array(['1992', '1993', '1994', '1995', '1996', '1997', '1998', '1999',\n",
       "       '2000', '2001', '2002', '2003', '2004', '2005', '2006', '2007',\n",
       "       '2008', '2009', '2010', '2011', '2012', '2013'], dtype=object)"
      ]
     },
     "metadata": {},
     "output_type": "display_data"
    },
    {
     "name": "stdout",
     "output_type": "stream",
     "text": [
      "-----------------------------------------------------\n",
      "\n",
      "Limite Inferior Agora\n",
      "\n",
      "-----------------------------------------------------\n",
      "Argentina ficou abaixo da faixa de controle 11 vezes, sendo os anos de:\n"
     ]
    },
    {
     "data": {
      "text/plain": [
       "array(['1960', '1961', '1962', '1963', '1964', '1965', '1966', '1967',\n",
       "       '1968', '1989', '1990'], dtype=object)"
      ]
     },
     "metadata": {},
     "output_type": "display_data"
    },
    {
     "name": "stdout",
     "output_type": "stream",
     "text": [
      "Brazil ficou abaixo da faixa de controle 39 vezes, sendo os anos de:\n"
     ]
    },
    {
     "data": {
      "text/plain": [
       "array(['1960', '1961', '1962', '1963', '1964', '1965', '1966', '1967',\n",
       "       '1968', '1969', '1970', '1971', '1972', '1973', '1974', '1975',\n",
       "       '1976', '1977', '1978', '1979', '1980', '1981', '1982', '1983',\n",
       "       '1984', '1985', '1986', '1987', '1988', '1989', '1990', '1991',\n",
       "       '1992', '1993', '1994', '1995', '1996', '1998', '1999'],\n",
       "      dtype=object)"
      ]
     },
     "metadata": {},
     "output_type": "display_data"
    },
    {
     "name": "stdout",
     "output_type": "stream",
     "text": [
      "Paraguay ficou abaixo da faixa de controle 54 vezes, sendo os anos de:\n"
     ]
    },
    {
     "data": {
      "text/plain": [
       "array(['1960', '1961', '1962', '1963', '1964', '1965', '1966', '1967',\n",
       "       '1968', '1969', '1970', '1971', '1972', '1973', '1974', '1975',\n",
       "       '1976', '1977', '1978', '1979', '1980', '1981', '1982', '1983',\n",
       "       '1984', '1985', '1986', '1987', '1988', '1989', '1990', '1991',\n",
       "       '1992', '1993', '1994', '1995', '1996', '1997', '1998', '1999',\n",
       "       '2000', '2001', '2002', '2003', '2004', '2005', '2006', '2007',\n",
       "       '2008', '2009', '2010', '2011', '2012', '2013'], dtype=object)"
      ]
     },
     "metadata": {},
     "output_type": "display_data"
    },
    {
     "name": "stdout",
     "output_type": "stream",
     "text": [
      "Uruguay ficou abaixo da faixa de controle 32 vezes, sendo os anos de:\n"
     ]
    },
    {
     "data": {
      "text/plain": [
       "array(['1960', '1961', '1962', '1963', '1964', '1965', '1966', '1967',\n",
       "       '1968', '1969', '1970', '1971', '1972', '1973', '1974', '1975',\n",
       "       '1976', '1977', '1978', '1979', '1980', '1981', '1982', '1983',\n",
       "       '1984', '1985', '1986', '1987', '1988', '1989', '1990', '1991'],\n",
       "      dtype=object)"
      ]
     },
     "metadata": {},
     "output_type": "display_data"
    }
   ],
   "source": [
    "\n",
    "# médias\n",
    "medias = df_registros_paises_conesul.mean(\n",
    "    numeric_only=True, skipna=True, axis=0)\n",
    "media_geral = medias.mean()\n",
    "\n",
    "# desvio padrão anuais\n",
    "desvios_padrao = df_registros_paises_conesul.std(\n",
    "    numeric_only=True, skipna=True, axis=0)\n",
    "desvio_padrao_geral = desvios_padrao.std()\n",
    "\n",
    "# limite superior de controle\n",
    "limite_superior = obter_limite_controle(media_dataframe=media_geral,\n",
    "                                        desvio_padrao_dataframe=desvio_padrao_geral * 2, limite_superior=True)\n",
    "\n",
    "# limite inferior de controle\n",
    "limite_inferior = obter_limite_controle(media_dataframe=media_geral,\n",
    "                                        desvio_padrao_dataframe=desvio_padrao_geral * 2, limite_superior=False)\n",
    "\n",
    "# separando quem saiu da faixa de controle superior e inferior\n",
    "\n",
    "fora_faixa_controle_superior = obter_elementos_saem_faixa_controle(\n",
    "    dataframe=df_registros_paises_conesul,\n",
    "    limite_superior=True,\n",
    "    valor_limite=limite_superior)\n",
    "\n",
    "fora_faixa_controle_inferior = obter_elementos_saem_faixa_controle(\n",
    "    dataframe=df_registros_paises_conesul,\n",
    "    limite_superior=False,\n",
    "    valor_limite=limite_inferior)\n",
    "\n",
    "exibir_saida_faixa_controle(dataframe=fora_faixa_controle_superior,\n",
    "                            dataframe_indices=nome_paises, limite_superior=True)\n",
    "\n",
    "print(\"-----------------------------------------------------\")\n",
    "print(\"\\nLimite Inferior Agora\\n\")\n",
    "print(\"-----------------------------------------------------\")\n",
    "\n",
    "\n",
    "exibir_saida_faixa_controle(dataframe=fora_faixa_controle_superior,\n",
    "                            dataframe_indices=nome_paises, limite_superior=False)\n"
   ]
  },
  {
   "cell_type": "markdown",
   "id": "a3e8bff1",
   "metadata": {},
   "source": [
    "## Exercício 8\n",
    "Descreva as estatísticas sobre o indicador GDP para os países da América do Sul, com uma tabela que contenha o número de medidas válidas, o número de medidas ausentes, a média, o mínimo, o máximo, a mediana, o desvio padrão e a variância do GDP por país"
   ]
  },
  {
   "cell_type": "code",
   "execution_count": 118,
   "id": "9e6c0559",
   "metadata": {},
   "outputs": [
    {
     "data": {
      "text/html": [
       "<div>\n",
       "<style scoped>\n",
       "    .dataframe tbody tr th:only-of-type {\n",
       "        vertical-align: middle;\n",
       "    }\n",
       "\n",
       "    .dataframe tbody tr th {\n",
       "        vertical-align: top;\n",
       "    }\n",
       "\n",
       "    .dataframe thead th {\n",
       "        text-align: right;\n",
       "    }\n",
       "</style>\n",
       "<table border=\"1\" class=\"dataframe\">\n",
       "  <thead>\n",
       "    <tr style=\"text-align: right;\">\n",
       "      <th></th>\n",
       "      <th>Países</th>\n",
       "      <th>Médias</th>\n",
       "      <th>Desvios</th>\n",
       "      <th>Mínimos</th>\n",
       "      <th>Máximos</th>\n",
       "      <th>Medianas</th>\n",
       "      <th>Variância</th>\n",
       "      <th>Válidas</th>\n",
       "      <th>Ausentes</th>\n",
       "    </tr>\n",
       "  </thead>\n",
       "  <tbody>\n",
       "    <tr>\n",
       "      <th>0</th>\n",
       "      <td>ARG</td>\n",
       "      <td>4790.404661</td>\n",
       "      <td>603.273175</td>\n",
       "      <td>3522.337065</td>\n",
       "      <td>6195.384942</td>\n",
       "      <td>4855.354103</td>\n",
       "      <td>3.639385e+05</td>\n",
       "      <td>47</td>\n",
       "      <td>7</td>\n",
       "    </tr>\n",
       "    <tr>\n",
       "      <th>1</th>\n",
       "      <td>BOL</td>\n",
       "      <td>980.230419</td>\n",
       "      <td>117.342266</td>\n",
       "      <td>799.950086</td>\n",
       "      <td>1323.124571</td>\n",
       "      <td>963.695207</td>\n",
       "      <td>1.376921e+04</td>\n",
       "      <td>54</td>\n",
       "      <td>0</td>\n",
       "    </tr>\n",
       "    <tr>\n",
       "      <th>2</th>\n",
       "      <td>BRA</td>\n",
       "      <td>3791.851543</td>\n",
       "      <td>1142.202778</td>\n",
       "      <td>1726.566347</td>\n",
       "      <td>5823.043784</td>\n",
       "      <td>3996.243028</td>\n",
       "      <td>1.304627e+06</td>\n",
       "      <td>54</td>\n",
       "      <td>0</td>\n",
       "    </tr>\n",
       "    <tr>\n",
       "      <th>3</th>\n",
       "      <td>CHL</td>\n",
       "      <td>4737.001266</td>\n",
       "      <td>2236.816807</td>\n",
       "      <td>2479.185118</td>\n",
       "      <td>9728.481224</td>\n",
       "      <td>3498.735159</td>\n",
       "      <td>5.003349e+06</td>\n",
       "      <td>54</td>\n",
       "      <td>0</td>\n",
       "    </tr>\n",
       "    <tr>\n",
       "      <th>4</th>\n",
       "      <td>COL</td>\n",
       "      <td>2654.812012</td>\n",
       "      <td>787.063610</td>\n",
       "      <td>1452.070326</td>\n",
       "      <td>4394.066614</td>\n",
       "      <td>2594.982776</td>\n",
       "      <td>6.194691e+05</td>\n",
       "      <td>54</td>\n",
       "      <td>0</td>\n",
       "    </tr>\n",
       "    <tr>\n",
       "      <th>5</th>\n",
       "      <td>ECU</td>\n",
       "      <td>2511.124108</td>\n",
       "      <td>551.126518</td>\n",
       "      <td>1572.431900</td>\n",
       "      <td>3700.526148</td>\n",
       "      <td>2629.246711</td>\n",
       "      <td>3.037404e+05</td>\n",
       "      <td>54</td>\n",
       "      <td>0</td>\n",
       "    </tr>\n",
       "    <tr>\n",
       "      <th>6</th>\n",
       "      <td>GUY</td>\n",
       "      <td>913.797234</td>\n",
       "      <td>168.069157</td>\n",
       "      <td>658.976280</td>\n",
       "      <td>1336.341400</td>\n",
       "      <td>887.478025</td>\n",
       "      <td>2.824724e+04</td>\n",
       "      <td>54</td>\n",
       "      <td>0</td>\n",
       "    </tr>\n",
       "    <tr>\n",
       "      <th>7</th>\n",
       "      <td>PRY</td>\n",
       "      <td>1229.303304</td>\n",
       "      <td>392.862647</td>\n",
       "      <td>569.512739</td>\n",
       "      <td>1929.094840</td>\n",
       "      <td>1372.977508</td>\n",
       "      <td>1.543411e+05</td>\n",
       "      <td>54</td>\n",
       "      <td>0</td>\n",
       "    </tr>\n",
       "    <tr>\n",
       "      <th>8</th>\n",
       "      <td>PER</td>\n",
       "      <td>2495.336615</td>\n",
       "      <td>501.221096</td>\n",
       "      <td>1855.983158</td>\n",
       "      <td>4109.596136</td>\n",
       "      <td>2365.303708</td>\n",
       "      <td>2.512226e+05</td>\n",
       "      <td>54</td>\n",
       "      <td>0</td>\n",
       "    </tr>\n",
       "    <tr>\n",
       "      <th>9</th>\n",
       "      <td>SUR</td>\n",
       "      <td>3503.401865</td>\n",
       "      <td>532.028103</td>\n",
       "      <td>2730.513671</td>\n",
       "      <td>4568.685095</td>\n",
       "      <td>3476.253539</td>\n",
       "      <td>2.830539e+05</td>\n",
       "      <td>39</td>\n",
       "      <td>15</td>\n",
       "    </tr>\n",
       "    <tr>\n",
       "      <th>10</th>\n",
       "      <td>URY</td>\n",
       "      <td>4323.779943</td>\n",
       "      <td>1228.118807</td>\n",
       "      <td>3021.774573</td>\n",
       "      <td>7808.626662</td>\n",
       "      <td>3967.121299</td>\n",
       "      <td>1.508276e+06</td>\n",
       "      <td>54</td>\n",
       "      <td>0</td>\n",
       "    </tr>\n",
       "    <tr>\n",
       "      <th>11</th>\n",
       "      <td>VEN</td>\n",
       "      <td>6008.967337</td>\n",
       "      <td>647.454483</td>\n",
       "      <td>4322.636853</td>\n",
       "      <td>7138.186093</td>\n",
       "      <td>5974.962032</td>\n",
       "      <td>4.191973e+05</td>\n",
       "      <td>54</td>\n",
       "      <td>0</td>\n",
       "    </tr>\n",
       "  </tbody>\n",
       "</table>\n",
       "</div>"
      ],
      "text/plain": [
       "   Países       Médias      Desvios      Mínimos      Máximos     Medianas  \\\n",
       "0     ARG  4790.404661   603.273175  3522.337065  6195.384942  4855.354103   \n",
       "1     BOL   980.230419   117.342266   799.950086  1323.124571   963.695207   \n",
       "2     BRA  3791.851543  1142.202778  1726.566347  5823.043784  3996.243028   \n",
       "3     CHL  4737.001266  2236.816807  2479.185118  9728.481224  3498.735159   \n",
       "4     COL  2654.812012   787.063610  1452.070326  4394.066614  2594.982776   \n",
       "5     ECU  2511.124108   551.126518  1572.431900  3700.526148  2629.246711   \n",
       "6     GUY   913.797234   168.069157   658.976280  1336.341400   887.478025   \n",
       "7     PRY  1229.303304   392.862647   569.512739  1929.094840  1372.977508   \n",
       "8     PER  2495.336615   501.221096  1855.983158  4109.596136  2365.303708   \n",
       "9     SUR  3503.401865   532.028103  2730.513671  4568.685095  3476.253539   \n",
       "10    URY  4323.779943  1228.118807  3021.774573  7808.626662  3967.121299   \n",
       "11    VEN  6008.967337   647.454483  4322.636853  7138.186093  5974.962032   \n",
       "\n",
       "       Variância  Válidas  Ausentes  \n",
       "0   3.639385e+05       47         7  \n",
       "1   1.376921e+04       54         0  \n",
       "2   1.304627e+06       54         0  \n",
       "3   5.003349e+06       54         0  \n",
       "4   6.194691e+05       54         0  \n",
       "5   3.037404e+05       54         0  \n",
       "6   2.824724e+04       54         0  \n",
       "7   1.543411e+05       54         0  \n",
       "8   2.512226e+05       54         0  \n",
       "9   2.830539e+05       39        15  \n",
       "10  1.508276e+06       54         0  \n",
       "11  4.191973e+05       54         0  "
      ]
     },
     "metadata": {},
     "output_type": "display_data"
    }
   ],
   "source": [
    "medias = []\n",
    "desvios = []\n",
    "minimos = []\n",
    "maximos = []\n",
    "medianas = []\n",
    "variancia = []\n",
    "validas = ausentes = []\n",
    "ausentes = []\n",
    "for indice_linha, coluna in df_registros_paises_sul_americanos.iterrows():\n",
    "    dados_pais: pd.Series = coluna.to_frame() \n",
    "    \n",
    "    medias.append(dados_pais.mean(numeric_only=True, skipna=True).values[0])\n",
    "    desvios.append(dados_pais.std(numeric_only=True, skipna=True).values[0])\n",
    "    minimos.append(dados_pais.min(numeric_only=True, skipna=True).values[0])\n",
    "    maximos.append(dados_pais.max(numeric_only=True, skipna=True).values[0])\n",
    "    medianas.append(dados_pais.median(numeric_only=True, skipna=True).values[0])\n",
    "    variancia.append(dados_pais.var(numeric_only=True, skipna=True).values[0])\n",
    "    ausentes.append(dados_pais.isna().sum().values[0])\n",
    "    validas.append(dados_pais.shape[0] - dados_pais.isna().sum(axis=0).values[0])\n",
    "\n",
    "dados = pd.DataFrame({'Países': filtro_cod_sul_americanos ,'Médias': medias,  'Desvios': desvios, 'Mínimos': minimos, 'Máximos' : maximos, 'Medianas': medianas, 'Variância': variancia, 'Válidas': validas, 'Ausentes': ausentes })\n",
    "\n",
    "display(dados)"
   ]
  },
  {
   "cell_type": "markdown",
   "id": "78e6be22",
   "metadata": {},
   "source": [
    "## Exercício 9\n",
    "Construa um boxplot que relacione o indicador GDP no período 1960-2013, para os países do ConeSul, no período 1960-2013."
   ]
  },
  {
   "cell_type": "code",
   "execution_count": 119,
   "id": "51ff71c2",
   "metadata": {},
   "outputs": [
    {
     "data": {
      "image/png": "[encoded data removed]",
      "text/plain": [
       "<Figure size 1332x756 with 1 Axes>"
      ]
     },
     "metadata": {
      "needs_background": "light"
     },
     "output_type": "display_data"
    }
   ],
   "source": [
    "nomes_colunas: list[str] = df_registros_paises_conesul.columns\n",
    "\n",
    "data = []\n",
    "\n",
    "dataframe =  df_registros_paises_conesul.dropna(axis = 1)\n",
    "\n",
    "for indice, linha in dataframe.iterrows():\n",
    "    dados_pais = linha.values\n",
    "    data.append(dados_pais)\n",
    "\n",
    "fig, ax = plt.subplots()\n",
    "fig.set_size_inches(18.5, 10.5, forward=True)\n",
    "plt.title(\"PIB per capita - Paises Cone Sul\", fontsize=15)\n",
    "plt.xlabel(\"Paises\", fontsize=13)\n",
    "plt.ylabel(\"PIB per capita\", fontsize=13)\n",
    "ax.boxplot(data, labels=nome_paises)\n",
    "plt.show()\n"
   ]
  }
 ],
 "metadata": {
  "interpreter": {
   "hash": "d4ecc00314b053340c011f30feae2cb0599056a19fa729c140ca6ecfe444bda2"
  },
  "kernelspec": {
   "display_name": "Python 3 (ipykernel)",
   "language": "python",
   "name": "python3"
  },
  "language_info": {
   "codemirror_mode": {
    "name": "ipython",
    "version": 3
   },
   "file_extension": ".py",
   "mimetype": "text/x-python",
   "name": "python",
   "nbconvert_exporter": "python",
   "pygments_lexer": "ipython3",
   "version": "3.9.13"
  }
 },
 "nbformat": 4,
 "nbformat_minor": 5
}
