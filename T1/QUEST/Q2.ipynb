{
 "cells": [
  {
   "cell_type": "markdown",
   "metadata": {},
   "source": [
    "## Questionário 1\n",
    "2ª Tentativa"
   ]
  },
  {
   "cell_type": "code",
   "execution_count": 53,
   "metadata": {},
   "outputs": [
    {
     "name": "stdout",
     "output_type": "stream",
     "text": [
      "<class 'pandas.core.frame.DataFrame'>\n",
      "RangeIndex: 48911 entries, 0 to 48910\n",
      "Data columns (total 4 columns):\n",
      " #   Column      Non-Null Count  Dtype  \n",
      "---  ------      --------------  -----  \n",
      " 0   CD_ESTACAO  48911 non-null  object \n",
      " 1   DT_MEDICAO  48911 non-null  object \n",
      " 2   HR_MEDICAO  48911 non-null  int64  \n",
      " 3   CHUVA       43683 non-null  float64\n",
      "dtypes: float64(1), int64(1), object(2)\n",
      "memory usage: 1.5+ MB\n"
     ]
    },
    {
     "data": {
      "text/plain": [
       "None"
      ]
     },
     "metadata": {},
     "output_type": "display_data"
    },
    {
     "name": "stdout",
     "output_type": "stream",
     "text": [
      "Registros nulos de dados:\n",
      "Campo DT_MEDICAO 0\n",
      "Campo DT_MEDICAO 0\n",
      "Campo CHUVA 5228\n"
     ]
    }
   ],
   "source": [
    "import pandas as pd\n",
    "\n",
    "caminho = './'\n",
    "nome_arquivo = 'ds_chuva_sm_2011_2020_3.csv'\n",
    "df = pd.read_csv(caminho + nome_arquivo, sep = ';', decimal = ',')\n",
    "\n",
    "# verificando tipo de dados em cada coluna\n",
    "display(df.info())\n",
    "\n",
    "quant_datas_nulo = df['DT_MEDICAO'].isna().sum()\n",
    "quant_horas_nulo = df['HR_MEDICAO'].isna().sum()\n",
    "quant_chuva_nulo = df['CHUVA'].isna().sum()\n",
    "\n",
    "print(\"Registros nulos de dados:\")\n",
    "print(\"Campo DT_MEDICAO\", quant_datas_nulo)\n",
    "print(\"Campo DT_MEDICAO\", quant_horas_nulo)\n",
    "print(\"Campo CHUVA\", quant_chuva_nulo)"
   ]
  },
  {
   "cell_type": "markdown",
   "metadata": {},
   "source": [
    "# Questão 1\n",
    "\n",
    "## a) Calcule e apresente o dia (1-{28,29,30,31}) que teve a maior precipitacao no mês 1, do ano 2011."
   ]
  },
  {
   "cell_type": "code",
   "execution_count": 1,
   "metadata": {},
   "outputs": [
    {
     "data": {
      "text/plain": [
       "DT_MEDICAO\n",
       "2011-01-01     0.0\n",
       "2011-01-02    39.2\n",
       "2011-01-03     0.0\n",
       "2011-01-04     0.0\n",
       "2011-01-05    13.0\n",
       "2011-01-06     0.0\n",
       "2011-01-07     0.0\n",
       "2011-01-08    10.0\n",
       "2011-01-09     0.2\n",
       "2011-01-10     0.0\n",
       "2011-01-11     1.2\n",
       "2011-01-12     5.6\n",
       "2011-01-13     0.0\n",
       "2011-01-14     0.0\n",
       "2011-01-15     0.0\n",
       "2011-01-16     0.0\n",
       "2011-01-17     3.4\n",
       "2011-01-18     1.0\n",
       "2011-01-19     0.0\n",
       "2011-01-20     0.0\n",
       "2011-01-21     0.0\n",
       "2011-01-22     0.0\n",
       "2011-01-23     0.0\n",
       "2011-01-24     0.0\n",
       "2011-01-25     0.0\n",
       "2011-01-26    36.4\n",
       "2011-01-27     9.0\n",
       "2011-01-28     0.0\n",
       "2011-01-29     0.0\n",
       "2011-01-30     0.0\n",
       "2011-01-31     0.0\n",
       "Freq: D, Name: CHUVA, dtype: float64"
      ]
     },
     "metadata": {},
     "output_type": "display_data"
    },
    {
     "data": {
      "text/plain": [
       "'Maior quantidade de chuva registrada no dia: 2011-01-02 00:00:00'"
      ]
     },
     "metadata": {},
     "output_type": "display_data"
    },
    {
     "data": {
      "text/plain": [
       "'Quantidade máxima registrada : 39.2'"
      ]
     },
     "metadata": {},
     "output_type": "display_data"
    }
   ],
   "source": [
    "import pandas as pd\n",
    "\n",
    "caminho = './'\n",
    "nome_arquivo = 'ds_chuva_sm_2011_2020_3.csv'\n",
    "df = pd.read_csv(caminho + nome_arquivo, sep = ';', decimal = ',')\n",
    "\n",
    "# convertendo para datetime\n",
    "df['DT_MEDICAO'] = pd.to_datetime(df['DT_MEDICAO'])\n",
    "# display(df.info())\n",
    "\n",
    "filtro = (df['DT_MEDICAO'] >=\n",
    "          '2011-01-01') & (df['DT_MEDICAO'] <= '2011-01-31')\n",
    "\n",
    "# filtrado apenas dados de janeiro de 2011\n",
    "df_2011_01 = df[filtro]\n",
    "\n",
    "# apagando dados nulos\n",
    "df_2011_01 = df_2011_01.dropna()\n",
    "\n",
    "# apagando colunas desnecessárias\n",
    "df_duas_colunas = df_2011_01.drop(['CD_ESTACAO', 'HR_MEDICAO'], axis=1)\n",
    "\n",
    "# agrupando e somando volume diario\n",
    "df_quant_diaria = df_duas_colunas.groupby(\n",
    "    pd.Grouper(key='DT_MEDICAO', freq='D'))['CHUVA'].sum()\n",
    "\n",
    "display(df_quant_diaria)\n",
    "\n",
    "maior_dia = df_quant_diaria.idxmax()\n",
    "maior_valor = df_quant_diaria.max(axis=0)\n",
    "\n",
    "display(\"Maior quantidade de chuva registrada no dia: \" + str(maior_dia))\n",
    "display(\"Quantidade máxima registrada : \" + str(maior_valor))\n"
   ]
  },
  {
   "cell_type": "markdown",
   "metadata": {},
   "source": [
    "## b) Calcule e apresente a precipitação acumulada para a hora 0, do mês 3, no ano 2020.\n",
    "Considere que devem ser somadas as precipitações de todas as 0 hora(s), de todos os dias do mês 3, no ano 2020."
   ]
  },
  {
   "cell_type": "code",
   "execution_count": 2,
   "metadata": {},
   "outputs": [
    {
     "data": {
      "text/html": [
       "<div>\n",
       "<style scoped>\n",
       "    .dataframe tbody tr th:only-of-type {\n",
       "        vertical-align: middle;\n",
       "    }\n",
       "\n",
       "    .dataframe tbody tr th {\n",
       "        vertical-align: top;\n",
       "    }\n",
       "\n",
       "    .dataframe thead th {\n",
       "        text-align: right;\n",
       "    }\n",
       "</style>\n",
       "<table border=\"1\" class=\"dataframe\">\n",
       "  <thead>\n",
       "    <tr style=\"text-align: right;\">\n",
       "      <th></th>\n",
       "      <th>CD_ESTACAO</th>\n",
       "      <th>DT_MEDICAO</th>\n",
       "      <th>HR_MEDICAO</th>\n",
       "      <th>CHUVA</th>\n",
       "    </tr>\n",
       "  </thead>\n",
       "  <tbody>\n",
       "    <tr>\n",
       "      <th>44765</th>\n",
       "      <td>A803</td>\n",
       "      <td>2020-03-01</td>\n",
       "      <td>0</td>\n",
       "      <td>0.0</td>\n",
       "    </tr>\n",
       "    <tr>\n",
       "      <th>44780</th>\n",
       "      <td>A803</td>\n",
       "      <td>2020-03-02</td>\n",
       "      <td>0</td>\n",
       "      <td>0.0</td>\n",
       "    </tr>\n",
       "    <tr>\n",
       "      <th>44806</th>\n",
       "      <td>A803</td>\n",
       "      <td>2020-03-04</td>\n",
       "      <td>0</td>\n",
       "      <td>0.0</td>\n",
       "    </tr>\n",
       "    <tr>\n",
       "      <th>44849</th>\n",
       "      <td>A803</td>\n",
       "      <td>2020-03-07</td>\n",
       "      <td>0</td>\n",
       "      <td>0.0</td>\n",
       "    </tr>\n",
       "    <tr>\n",
       "      <th>44865</th>\n",
       "      <td>A803</td>\n",
       "      <td>2020-03-08</td>\n",
       "      <td>0</td>\n",
       "      <td>0.0</td>\n",
       "    </tr>\n",
       "    <tr>\n",
       "      <th>44882</th>\n",
       "      <td>A803</td>\n",
       "      <td>2020-03-09</td>\n",
       "      <td>0</td>\n",
       "      <td>0.0</td>\n",
       "    </tr>\n",
       "    <tr>\n",
       "      <th>44945</th>\n",
       "      <td>A803</td>\n",
       "      <td>2020-03-15</td>\n",
       "      <td>0</td>\n",
       "      <td>0.0</td>\n",
       "    </tr>\n",
       "    <tr>\n",
       "      <th>44956</th>\n",
       "      <td>A803</td>\n",
       "      <td>2020-03-16</td>\n",
       "      <td>0</td>\n",
       "      <td>0.0</td>\n",
       "    </tr>\n",
       "    <tr>\n",
       "      <th>44969</th>\n",
       "      <td>A803</td>\n",
       "      <td>2020-03-17</td>\n",
       "      <td>0</td>\n",
       "      <td>0.0</td>\n",
       "    </tr>\n",
       "    <tr>\n",
       "      <th>45013</th>\n",
       "      <td>A803</td>\n",
       "      <td>2020-03-20</td>\n",
       "      <td>0</td>\n",
       "      <td>0.0</td>\n",
       "    </tr>\n",
       "    <tr>\n",
       "      <th>45040</th>\n",
       "      <td>A803</td>\n",
       "      <td>2020-03-22</td>\n",
       "      <td>0</td>\n",
       "      <td>0.0</td>\n",
       "    </tr>\n",
       "    <tr>\n",
       "      <th>45085</th>\n",
       "      <td>A803</td>\n",
       "      <td>2020-03-25</td>\n",
       "      <td>0</td>\n",
       "      <td>0.0</td>\n",
       "    </tr>\n",
       "    <tr>\n",
       "      <th>45100</th>\n",
       "      <td>A803</td>\n",
       "      <td>2020-03-26</td>\n",
       "      <td>0</td>\n",
       "      <td>0.0</td>\n",
       "    </tr>\n",
       "    <tr>\n",
       "      <th>45116</th>\n",
       "      <td>A803</td>\n",
       "      <td>2020-03-27</td>\n",
       "      <td>0</td>\n",
       "      <td>0.0</td>\n",
       "    </tr>\n",
       "    <tr>\n",
       "      <th>45128</th>\n",
       "      <td>A803</td>\n",
       "      <td>2020-03-28</td>\n",
       "      <td>0</td>\n",
       "      <td>0.0</td>\n",
       "    </tr>\n",
       "    <tr>\n",
       "      <th>45146</th>\n",
       "      <td>A803</td>\n",
       "      <td>2020-03-29</td>\n",
       "      <td>0</td>\n",
       "      <td>0.0</td>\n",
       "    </tr>\n",
       "    <tr>\n",
       "      <th>45182</th>\n",
       "      <td>A803</td>\n",
       "      <td>2020-03-31</td>\n",
       "      <td>0</td>\n",
       "      <td>NaN</td>\n",
       "    </tr>\n",
       "  </tbody>\n",
       "</table>\n",
       "</div>"
      ],
      "text/plain": [
       "      CD_ESTACAO DT_MEDICAO  HR_MEDICAO  CHUVA\n",
       "44765       A803 2020-03-01           0    0.0\n",
       "44780       A803 2020-03-02           0    0.0\n",
       "44806       A803 2020-03-04           0    0.0\n",
       "44849       A803 2020-03-07           0    0.0\n",
       "44865       A803 2020-03-08           0    0.0\n",
       "44882       A803 2020-03-09           0    0.0\n",
       "44945       A803 2020-03-15           0    0.0\n",
       "44956       A803 2020-03-16           0    0.0\n",
       "44969       A803 2020-03-17           0    0.0\n",
       "45013       A803 2020-03-20           0    0.0\n",
       "45040       A803 2020-03-22           0    0.0\n",
       "45085       A803 2020-03-25           0    0.0\n",
       "45100       A803 2020-03-26           0    0.0\n",
       "45116       A803 2020-03-27           0    0.0\n",
       "45128       A803 2020-03-28           0    0.0\n",
       "45146       A803 2020-03-29           0    0.0\n",
       "45182       A803 2020-03-31           0    NaN"
      ]
     },
     "metadata": {},
     "output_type": "display_data"
    },
    {
     "data": {
      "text/plain": [
       "HR_MEDICAO\n",
       "0    0.0\n",
       "Name: CHUVA, dtype: float64"
      ]
     },
     "metadata": {},
     "output_type": "display_data"
    },
    {
     "data": {
      "text/plain": [
       "'Quantidade registrada no horário foi de : 0.0'"
      ]
     },
     "metadata": {},
     "output_type": "display_data"
    }
   ],
   "source": [
    "import pandas as pd\n",
    "\n",
    "caminho = './'\n",
    "nome_arquivo = 'ds_chuva_sm_2011_2020_3.csv'\n",
    "df = pd.read_csv(caminho + nome_arquivo, sep = ';', decimal = ',')\n",
    "\n",
    "# convertendo para datetime\n",
    "df['DT_MEDICAO'] = pd.to_datetime(df['DT_MEDICAO'])\n",
    "# display(df.info())\n",
    "\n",
    "filtro = (df['DT_MEDICAO'] >=\n",
    "          '2020-03-01') & (df['DT_MEDICAO'] <= '2020-03-31') & (df['HR_MEDICAO'] == 0) \n",
    "\n",
    "# filtrado apenas dados de março de 2020 com hora 0\n",
    "df_2020_03 = df[filtro]\n",
    "\n",
    "display(df_2020_03)\n",
    "\n",
    "# apagando dados nulos\n",
    "df_2020_03 = df_2020_03.dropna()\n",
    "\n",
    "# apagando colunas desnecessárias\n",
    "df_duas_colunas = df_2020_03.drop(['CD_ESTACAO', 'DT_MEDICAO'], axis=1)\n",
    "\n",
    "# agrupando e somando volume diario\n",
    "df_quant_diaria = df_duas_colunas.groupby(\n",
    "    pd.Grouper(key='HR_MEDICAO'))['CHUVA'].sum()\n",
    "\n",
    "display(df_quant_diaria)\n",
    "\n",
    "maior_valor = df_quant_diaria.max(axis=0)\n",
    "\n",
    "display(\"Quantidade registrada no horário foi de : \" + str(maior_valor))\n"
   ]
  },
  {
   "cell_type": "markdown",
   "metadata": {},
   "source": [
    "# Questão 2\n",
    "Com base no \"dataset\" da questão anterior, desenvolva o histograma com a precipitação acumulada nos meses de um dos anos do intervalo 2011-2020 (escolha um dos anos).\n",
    "\n"
   ]
  },
  {
   "cell_type": "code",
   "execution_count": 23,
   "metadata": {},
   "outputs": [
    {
     "data": {
      "text/plain": [
       "array([[<AxesSubplot:title={'center':'DT_MEDICAO'}>,\n",
       "        <AxesSubplot:title={'center':'HR_MEDICAO'}>],\n",
       "       [<AxesSubplot:title={'center':'CHUVA'}>, <AxesSubplot:>]],\n",
       "      dtype=object)"
      ]
     },
     "execution_count": 23,
     "metadata": {},
     "output_type": "execute_result"
    },
    {
     "data": {
      "image/png": "[encoded data removed]",
      "text/plain": [
       "<Figure size 864x360 with 4 Axes>"
      ]
     },
     "metadata": {
      "needs_background": "light"
     },
     "output_type": "display_data"
    }
   ],
   "source": [
    "import pandas as pd\n",
    "\n",
    "caminho = './'\n",
    "nome_arquivo = 'ds_chuva_sm_2011_2020_3.csv'\n",
    "df = pd.read_csv(caminho + nome_arquivo, sep = ';', decimal = ',')\n",
    "\n",
    "# convertendo para datetime\n",
    "df['DT_MEDICAO'] = pd.to_datetime(df['DT_MEDICAO'])\n",
    "# display(df.info())\n",
    "\n",
    "filtro = (df['DT_MEDICAO'] >=\n",
    "          '2015-01-01') & (df['DT_MEDICAO'] <= '2015-12-31')\n",
    "\n",
    "# filtrado apenas dados de março de 2015 com hora 0\n",
    "df_2015 = df[filtro]\n",
    "\n",
    "# apagando dados nulos\n",
    "df_2015 = df_2015.dropna()\n",
    "\n",
    "# apagando colunas desnecessárias\n",
    "df_filtrado = df_2015.drop(['CD_ESTACAO'], axis=1)\n",
    "\n",
    "\n",
    "df_filtrado.hist(figsize=[12,5])"
   ]
  }
 ],
 "metadata": {
  "kernelspec": {
   "display_name": "Python 3.9.13 64-bit (windows store)",
   "language": "python",
   "name": "python3"
  },
  "language_info": {
   "codemirror_mode": {
    "name": "ipython",
    "version": 3
   },
   "file_extension": ".py",
   "mimetype": "text/x-python",
   "name": "python",
   "nbconvert_exporter": "python",
   "pygments_lexer": "ipython3",
   "version": "3.9.13"
  },
  "orig_nbformat": 4,
  "vscode": {
   "interpreter": {
    "hash": "d4ecc00314b053340c011f30feae2cb0599056a19fa729c140ca6ecfe444bda2"
   }
  }
 },
 "nbformat": 4,
 "nbformat_minor": 2
}
